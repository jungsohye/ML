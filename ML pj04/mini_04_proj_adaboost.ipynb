{
 "cells": [
  {
   "cell_type": "code",
   "execution_count": 1,
   "id": "0c3d0066",
   "metadata": {},
   "outputs": [],
   "source": [
    "import pandas as pd\n",
    "import seaborn as sns\n",
    "import numpy as np\n",
    "from pathlib import Path\n",
    "import os\n",
    "import matplotlib.pyplot as plt\n",
    "from sklearn.ensemble import RandomForestRegressor\n",
    "from sklearn.svm import SVR\n",
    "from sklearn.linear_model import SGDRegressor\n",
    "from sklearn.metrics import confusion_matrix\n",
    "from sklearn.preprocessing import StandardScaler, LabelEncoder\n",
    "from sklearn.model_selection import train_test_split, GridSearchCV, cross_val_score\n",
    "%matplotlib inline\n",
    "wine = pd.read_csv('winequality-red.csv') "
   ]
  },
  {
   "cell_type": "code",
   "execution_count": 2,
   "id": "071a1178",
   "metadata": {},
   "outputs": [],
   "source": [
    "from sklearn.utils import shuffle\n",
    "wine = shuffle(wine, random_state=42)"
   ]
  },
  {
   "cell_type": "code",
   "execution_count": 3,
   "id": "756a3800",
   "metadata": {},
   "outputs": [
    {
     "name": "stdout",
     "output_type": "stream",
     "text": [
      "<class 'pandas.core.frame.DataFrame'>\n",
      "Int64Index: 1599 entries, 803 to 1126\n",
      "Data columns (total 12 columns):\n",
      " #   Column                Non-Null Count  Dtype  \n",
      "---  ------                --------------  -----  \n",
      " 0   fixed acidity         1599 non-null   float64\n",
      " 1   volatile acidity      1599 non-null   float64\n",
      " 2   citric acid           1599 non-null   float64\n",
      " 3   residual sugar        1599 non-null   float64\n",
      " 4   chlorides             1599 non-null   float64\n",
      " 5   free sulfur dioxide   1599 non-null   float64\n",
      " 6   total sulfur dioxide  1599 non-null   float64\n",
      " 7   density               1599 non-null   float64\n",
      " 8   pH                    1599 non-null   float64\n",
      " 9   sulphates             1599 non-null   float64\n",
      " 10  alcohol               1599 non-null   float64\n",
      " 11  quality               1599 non-null   int64  \n",
      "dtypes: float64(11), int64(1)\n",
      "memory usage: 162.4 KB\n"
     ]
    }
   ],
   "source": [
    "wine.info()"
   ]
  },
  {
   "cell_type": "code",
   "execution_count": 4,
   "id": "dff455db",
   "metadata": {},
   "outputs": [],
   "source": [
    "wine['1']=wine['fixed acidity']-wine['total sulfur dioxide']\n",
    "wine['5']=wine['sulphates']-wine['chlorides']#황산염-염화물"
   ]
  },
  {
   "cell_type": "code",
   "execution_count": 5,
   "id": "e37c7d3d",
   "metadata": {},
   "outputs": [],
   "source": [
    "X_train = wine.drop(([\"quality\",\"density\",\"fixed acidity\"]),axis = 1)\n",
    "y_train = wine[\"quality\"].copy()"
   ]
  },
  {
   "cell_type": "code",
   "execution_count": 6,
   "id": "02ccd30b",
   "metadata": {},
   "outputs": [
    {
     "name": "stdout",
     "output_type": "stream",
     "text": [
      "<class 'pandas.core.frame.DataFrame'>\n",
      "Int64Index: 1599 entries, 803 to 1126\n",
      "Data columns (total 14 columns):\n",
      " #   Column                Non-Null Count  Dtype  \n",
      "---  ------                --------------  -----  \n",
      " 0   fixed acidity         1599 non-null   float64\n",
      " 1   volatile acidity      1599 non-null   float64\n",
      " 2   citric acid           1599 non-null   float64\n",
      " 3   residual sugar        1599 non-null   float64\n",
      " 4   chlorides             1599 non-null   float64\n",
      " 5   free sulfur dioxide   1599 non-null   float64\n",
      " 6   total sulfur dioxide  1599 non-null   float64\n",
      " 7   density               1599 non-null   float64\n",
      " 8   pH                    1599 non-null   float64\n",
      " 9   sulphates             1599 non-null   float64\n",
      " 10  alcohol               1599 non-null   float64\n",
      " 11  quality               1599 non-null   int64  \n",
      " 12  1                     1599 non-null   float64\n",
      " 13  5                     1599 non-null   float64\n",
      "dtypes: float64(13), int64(1)\n",
      "memory usage: 187.4 KB\n"
     ]
    }
   ],
   "source": [
    "corr_matrix=wine.corr()\n",
    "wine.info()"
   ]
  },
  {
   "cell_type": "code",
   "execution_count": 7,
   "id": "e5b74f98",
   "metadata": {},
   "outputs": [
    {
     "data": {
      "text/plain": [
       "quality                 1.000000\n",
       "alcohol                 0.476166\n",
       "5                       0.307735\n",
       "sulphates               0.251397\n",
       "citric acid             0.226373\n",
       "1                       0.190265\n",
       "fixed acidity           0.124052\n",
       "residual sugar          0.013732\n",
       "free sulfur dioxide    -0.050656\n",
       "pH                     -0.057731\n",
       "chlorides              -0.128907\n",
       "density                -0.174919\n",
       "total sulfur dioxide   -0.185100\n",
       "volatile acidity       -0.390558\n",
       "Name: quality, dtype: float64"
      ]
     },
     "execution_count": 7,
     "metadata": {},
     "output_type": "execute_result"
    }
   ],
   "source": [
    "corr_matrix[\"quality\"].sort_values(ascending=False)"
   ]
  },
  {
   "cell_type": "code",
   "execution_count": 8,
   "id": "6f9ecc6a",
   "metadata": {},
   "outputs": [],
   "source": [
    "# 스탠다드 스케일러 적용\n",
    "\n",
    "sc = StandardScaler()\n",
    "\n",
    "X_train = sc.fit_transform(X_train)\n"
   ]
  },
  {
   "cell_type": "code",
   "execution_count": 9,
   "id": "fcd2ae69",
   "metadata": {},
   "outputs": [],
   "source": [
    "def display_scores(scores):\n",
    "    print(\"Scores:\", scores)\n",
    "    print(\"Mean:\", scores.mean())\n",
    "    print(\"Standard deviation:\", scores.std())"
   ]
  },
  {
   "cell_type": "markdown",
   "id": "14d8d845",
   "metadata": {},
   "source": [
    "# Adaboost"
   ]
  },
  {
   "cell_type": "code",
   "execution_count": 50,
   "id": "491bcddb",
   "metadata": {},
   "outputs": [
    {
     "name": "stdout",
     "output_type": "stream",
     "text": [
      "Scores: [0.52988065 0.51689483 0.5720813  0.536759   0.56572415 0.56750595\n",
      " 0.54291333 0.57166404 0.5179278  0.51702579]\n",
      "Mean: 0.5438376838915974\n",
      "Standard deviation: 0.02230042753300183\n"
     ]
    }
   ],
   "source": [
    "from sklearn.ensemble import AdaBoostRegressor\n",
    "from sklearn.ensemble import ExtraTreesRegressor\n",
    "from sklearn.model_selection import cross_val_score\n",
    "\n",
    "ada_reg= AdaBoostRegressor(n_estimators=500, random_state=42, learning_rate=1.5)\n",
    "ada_reg.fit(X_train, y_train)\n",
    "model1 = AdaBoostRegressor(base_estimator=ExtraTreesRegressor(n_estimators=600, random_state=42,max_depth=50))\n",
    "model1.fit(X_train, y_train)\n",
    "\n",
    "model1_scores = cross_val_score(model1, X_train, y_train, scoring=\"neg_mean_squared_error\", cv=10)\n",
    "model1_rmse_scores = np.sqrt(-model1_scores)\n",
    "display_scores(model1_rmse_scores)"
   ]
  },
  {
   "cell_type": "code",
   "execution_count": null,
   "id": "9ea9d029",
   "metadata": {},
   "outputs": [],
   "source": []
  },
  {
   "cell_type": "code",
   "execution_count": 17,
   "id": "f0eb23f1",
   "metadata": {},
   "outputs": [
    {
     "name": "stdout",
     "output_type": "stream",
     "text": [
      "Scores: [0.58435808 0.61432691 0.60255311 0.60361811 0.60872942 0.62492511\n",
      " 0.62076928 0.64088422 0.55373729 0.6118533 ]\n",
      "Mean: 0.6065754835646732\n",
      "Standard deviation: 0.02262355948380248\n"
     ]
    }
   ],
   "source": [
    "from sklearn.ensemble import GradientBoostingRegressor\n",
    "from sklearn.model_selection import cross_val_score\n",
    "\n",
    "reg = GradientBoostingRegressor(random_state=42,n_estimators=2000)\n",
    "reg.fit(X_train, y_train)\n",
    "\n",
    "reg_score=cross_val_score(reg,X_train, y_train,scoring=\"neg_mean_squared_error\", cv=10)\n",
    "score = np.sqrt(-reg_score)\n",
    "display_scores(score)"
   ]
  },
  {
   "cell_type": "code",
   "execution_count": null,
   "id": "4bb35641",
   "metadata": {},
   "outputs": [],
   "source": [
    "Mean: 0.5986670572492433"
   ]
  },
  {
   "cell_type": "code",
   "execution_count": null,
   "id": "a089f7ae",
   "metadata": {},
   "outputs": [],
   "source": []
  },
  {
   "cell_type": "code",
   "execution_count": 20,
   "id": "bc16bb6f",
   "metadata": {},
   "outputs": [
    {
     "data": {
      "text/plain": [
       "VotingRegressor(estimators=[('ex',\n",
       "                             ExtraTreesRegressor(n_estimators=1000,\n",
       "                                                 random_state=42)),\n",
       "                            ('gb',\n",
       "                             GradientBoostingRegressor(n_estimators=300,\n",
       "                                                       random_state=42)),\n",
       "                            ('ada_ex',\n",
       "                             AdaBoostRegressor(base_estimator=ExtraTreesRegressor(max_depth=50,\n",
       "                                                                                  n_estimators=600,\n",
       "                                                                                  random_state=42)))])"
      ]
     },
     "execution_count": 20,
     "metadata": {},
     "output_type": "execute_result"
    }
   ],
   "source": [
    "from sklearn.ensemble import VotingRegressor\n",
    "from sklearn.ensemble import GradientBoostingRegressor\n",
    "from sklearn.ensemble import AdaBoostRegressor\n",
    "from sklearn.ensemble import ExtraTreesRegressor\n",
    "\n",
    "\n",
    "ada_reg= AdaBoostRegressor(n_estimators=500, random_state=42, learning_rate=1.5)\n",
    "ada_reg.fit(X_train, y_train)\n",
    "model1 = AdaBoostRegressor(base_estimator=ExtraTreesRegressor(n_estimators=600, random_state=42,max_depth=50))\n",
    "model1.fit(X_train, y_train)\n",
    "\n",
    "ex_reg = ExtraTreesRegressor(n_estimators=1000, random_state=42)\n",
    "ex_reg.fit(X_train, y_train)\n",
    "\n",
    "gb_reg = GradientBoostingRegressor(random_state=42,n_estimators=300)\n",
    "gb_reg.fit(X_train, y_train)\n",
    "\n",
    "voting_reg = VotingRegressor(\n",
    "    estimators=[('ex',ex_reg), ('gb',gb_reg),('ada_ex',model1)])\n",
    "\n",
    "voting_reg.fit(X_train, y_train)\n",
    "\n"
   ]
  },
  {
   "cell_type": "code",
   "execution_count": 22,
   "id": "3fe2e676",
   "metadata": {},
   "outputs": [
    {
     "name": "stdout",
     "output_type": "stream",
     "text": [
      "Scores: [0.58435808 0.61432691 0.60255311 0.60361811 0.60872942 0.62492511\n",
      " 0.62076928 0.64088422 0.55373729 0.6118533 ]\n",
      "Mean: 0.6065754835646732\n",
      "Standard deviation: 0.02262355948380248\n"
     ]
    }
   ],
   "source": [
    "from sklearn.metrics import accuracy_score\n",
    "\n",
    "for reg in (ex_reg, gb_reg, model1,voting_reg):\n",
    "    clf_scores = cross_val_score(reg, X_train, y_train,scoring=\"neg_mean_squared_error\", cv=10)\n",
    "    score = np.sqrt(-reg_score)\n",
    "display_scores(score)"
   ]
  },
  {
   "cell_type": "code",
   "execution_count": null,
   "id": "5ba2cf4b",
   "metadata": {},
   "outputs": [],
   "source": []
  }
 ],
 "metadata": {
  "kernelspec": {
   "display_name": "Python 3 (ipykernel)",
   "language": "python",
   "name": "python3"
  },
  "language_info": {
   "codemirror_mode": {
    "name": "ipython",
    "version": 3
   },
   "file_extension": ".py",
   "mimetype": "text/x-python",
   "name": "python",
   "nbconvert_exporter": "python",
   "pygments_lexer": "ipython3",
   "version": "3.9.7"
  }
 },
 "nbformat": 4,
 "nbformat_minor": 5
}
