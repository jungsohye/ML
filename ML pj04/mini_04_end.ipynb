{
 "cells": [
  {
   "cell_type": "code",
   "execution_count": 2,
   "id": "0c3d0066",
   "metadata": {},
   "outputs": [],
   "source": [
    "import pandas as pd\n",
    "import seaborn as sns\n",
    "import numpy as np\n",
    "from pathlib import Path\n",
    "import os\n",
    "import matplotlib.pyplot as plt\n",
    "from sklearn.ensemble import RandomForestRegressor\n",
    "from sklearn.svm import SVR\n",
    "from sklearn.linear_model import SGDRegressor\n",
    "from sklearn.metrics import confusion_matrix\n",
    "from sklearn.preprocessing import StandardScaler, LabelEncoder\n",
    "from sklearn.model_selection import train_test_split, GridSearchCV, cross_val_score\n",
    "%matplotlib inline\n",
    "wine = pd.read_csv('winequality-red.csv') "
   ]
  },
  {
   "cell_type": "code",
   "execution_count": 3,
   "id": "071a1178",
   "metadata": {},
   "outputs": [],
   "source": [
    "from sklearn.utils import shuffle\n",
    "wine = shuffle(wine, random_state=42)"
   ]
  },
  {
   "cell_type": "code",
   "execution_count": 4,
   "id": "756a3800",
   "metadata": {},
   "outputs": [
    {
     "name": "stdout",
     "output_type": "stream",
     "text": [
      "<class 'pandas.core.frame.DataFrame'>\n",
      "Int64Index: 1599 entries, 803 to 1126\n",
      "Data columns (total 12 columns):\n",
      " #   Column                Non-Null Count  Dtype  \n",
      "---  ------                --------------  -----  \n",
      " 0   fixed acidity         1599 non-null   float64\n",
      " 1   volatile acidity      1599 non-null   float64\n",
      " 2   citric acid           1599 non-null   float64\n",
      " 3   residual sugar        1599 non-null   float64\n",
      " 4   chlorides             1599 non-null   float64\n",
      " 5   free sulfur dioxide   1599 non-null   float64\n",
      " 6   total sulfur dioxide  1599 non-null   float64\n",
      " 7   density               1599 non-null   float64\n",
      " 8   pH                    1599 non-null   float64\n",
      " 9   sulphates             1599 non-null   float64\n",
      " 10  alcohol               1599 non-null   float64\n",
      " 11  quality               1599 non-null   int64  \n",
      "dtypes: float64(11), int64(1)\n",
      "memory usage: 162.4 KB\n"
     ]
    }
   ],
   "source": [
    "wine.info()"
   ]
  },
  {
   "cell_type": "code",
   "execution_count": 5,
   "id": "dff455db",
   "metadata": {},
   "outputs": [],
   "source": [
    "wine['1']=wine['fixed acidity']-wine['total sulfur dioxide']\n",
    "wine['5']=wine['sulphates']-wine['chlorides']#황산염-염화물"
   ]
  },
  {
   "cell_type": "code",
   "execution_count": 6,
   "id": "e37c7d3d",
   "metadata": {},
   "outputs": [],
   "source": [
    "X_train = wine.drop(([\"quality\",\"density\",\"fixed acidity\"]),axis = 1)\n",
    "y_train = wine[\"quality\"].copy()"
   ]
  },
  {
   "cell_type": "code",
   "execution_count": 7,
   "id": "02ccd30b",
   "metadata": {},
   "outputs": [
    {
     "name": "stdout",
     "output_type": "stream",
     "text": [
      "<class 'pandas.core.frame.DataFrame'>\n",
      "Int64Index: 1599 entries, 803 to 1126\n",
      "Data columns (total 14 columns):\n",
      " #   Column                Non-Null Count  Dtype  \n",
      "---  ------                --------------  -----  \n",
      " 0   fixed acidity         1599 non-null   float64\n",
      " 1   volatile acidity      1599 non-null   float64\n",
      " 2   citric acid           1599 non-null   float64\n",
      " 3   residual sugar        1599 non-null   float64\n",
      " 4   chlorides             1599 non-null   float64\n",
      " 5   free sulfur dioxide   1599 non-null   float64\n",
      " 6   total sulfur dioxide  1599 non-null   float64\n",
      " 7   density               1599 non-null   float64\n",
      " 8   pH                    1599 non-null   float64\n",
      " 9   sulphates             1599 non-null   float64\n",
      " 10  alcohol               1599 non-null   float64\n",
      " 11  quality               1599 non-null   int64  \n",
      " 12  1                     1599 non-null   float64\n",
      " 13  5                     1599 non-null   float64\n",
      "dtypes: float64(13), int64(1)\n",
      "memory usage: 187.4 KB\n"
     ]
    }
   ],
   "source": [
    "corr_matrix=wine.corr()\n",
    "wine.info()"
   ]
  },
  {
   "cell_type": "code",
   "execution_count": 8,
   "id": "e5b74f98",
   "metadata": {},
   "outputs": [
    {
     "data": {
      "text/plain": [
       "quality                 1.000000\n",
       "alcohol                 0.476166\n",
       "5                       0.307735\n",
       "sulphates               0.251397\n",
       "citric acid             0.226373\n",
       "1                       0.190265\n",
       "fixed acidity           0.124052\n",
       "residual sugar          0.013732\n",
       "free sulfur dioxide    -0.050656\n",
       "pH                     -0.057731\n",
       "chlorides              -0.128907\n",
       "density                -0.174919\n",
       "total sulfur dioxide   -0.185100\n",
       "volatile acidity       -0.390558\n",
       "Name: quality, dtype: float64"
      ]
     },
     "execution_count": 8,
     "metadata": {},
     "output_type": "execute_result"
    }
   ],
   "source": [
    "corr_matrix[\"quality\"].sort_values(ascending=False)"
   ]
  },
  {
   "cell_type": "code",
   "execution_count": 9,
   "id": "6f9ecc6a",
   "metadata": {},
   "outputs": [],
   "source": [
    "# 스탠다드 스케일러 적용\n",
    "\n",
    "sc = StandardScaler()\n",
    "\n",
    "X_train = sc.fit_transform(X_train)\n"
   ]
  },
  {
   "cell_type": "code",
   "execution_count": 10,
   "id": "fcd2ae69",
   "metadata": {},
   "outputs": [],
   "source": [
    "def display_scores(scores):\n",
    "    print(\"Scores:\", scores)\n",
    "    print(\"Mean:\", scores.mean())\n",
    "    print(\"Standard deviation:\", scores.std())"
   ]
  },
  {
   "cell_type": "markdown",
   "id": "cfc56ac0",
   "metadata": {},
   "source": [
    "# voting"
   ]
  },
  {
   "cell_type": "code",
   "execution_count": 13,
   "id": "bec00a77",
   "metadata": {},
   "outputs": [
    {
     "data": {
      "text/plain": [
       "VotingRegressor(estimators=[('ex1',\n",
       "                             ExtraTreesRegressor(max_depth=20, n_estimators=400,\n",
       "                                                 random_state=42)),\n",
       "                            ('ex2',\n",
       "                             ExtraTreesRegressor(max_depth=50, n_estimators=500,\n",
       "                                                 random_state=42)),\n",
       "                            ('ada',\n",
       "                             AdaBoostRegressor(base_estimator=ExtraTreesRegressor(max_depth=50,\n",
       "                                                                                  n_estimators=500,\n",
       "                                                                                  random_state=42)))])"
      ]
     },
     "execution_count": 13,
     "metadata": {},
     "output_type": "execute_result"
    }
   ],
   "source": [
    "from sklearn.ensemble import VotingRegressor\n",
    "from sklearn.tree import DecisionTreeRegressor\n",
    "from sklearn.ensemble import ExtraTreesRegressor\n",
    "from sklearn.ensemble import AdaBoostRegressor\n",
    "\n",
    "ada_reg= AdaBoostRegressor(n_estimators=500, random_state=42, learning_rate=2)\n",
    "ada_reg.fit(X_train, y_train)\n",
    "\n",
    "ex1_reg = ExtraTreesRegressor(n_estimators=400, random_state=42,max_depth=20)\n",
    "ex1_reg.fit(X_train, y_train)\n",
    "ex2_reg = ExtraTreesRegressor(n_estimators=500, random_state=42,max_depth=50)\n",
    "ex2_reg.fit(X_train, y_train)\n",
    "model1 = AdaBoostRegressor(base_estimator=ExtraTreesRegressor(n_estimators=500, random_state=42,max_depth=50))\n",
    "model1.fit(X_train, y_train)\n",
    "\n",
    "voting_reg = VotingRegressor(\n",
    "    estimators=[('ex1',ex1_reg), ('ex2',ex2_reg),('ada',model1)])\n",
    "\n",
    "voting_reg.fit(X_train, y_train)\n",
    "\n"
   ]
  },
  {
   "cell_type": "code",
   "execution_count": 28,
   "id": "ce24d02b",
   "metadata": {},
   "outputs": [
    {
     "name": "stdout",
     "output_type": "stream",
     "text": [
      "Scores: [0.53365271 0.5276345  0.57580465 0.53481577 0.5551453  0.58030228\n",
      " 0.53365711 0.57162171 0.52058185 0.51280071]\n",
      "Mean: 0.5446016581033308\n",
      "Standard deviation: 0.023023846118914112\n",
      "Scores: [0.53463918 0.52791732 0.57617498 0.53442957 0.55564168 0.58066503\n",
      " 0.53333138 0.57038707 0.51969221 0.51211717]\n",
      "Mean: 0.5444995574697368\n",
      "Standard deviation: 0.023168811597168264\n",
      "Scores: [0.53478304 0.52778904 0.57650234 0.53488608 0.55531338 0.58037347\n",
      " 0.53240381 0.57054094 0.5195324  0.5130194 ]\n",
      "Mean: 0.5445143894942798\n",
      "Standard deviation: 0.023093166418843975\n",
      "Scores: [0.534836   0.52700042 0.57610576 0.53559687 0.55601054 0.58166119\n",
      " 0.533402   0.57032942 0.51811527 0.51221509]\n",
      "Mean: 0.5445272568010208\n",
      "Standard deviation: 0.023494788170826692\n"
     ]
    }
   ],
   "source": [
    "from sklearn.model_selection import cross_val_score\n",
    "\n",
    "temp = []\n",
    "for reg in [ex1_reg, ex2_reg,model1, voting_reg]:\n",
    "    reg_score=cross_val_score(voting_reg,X_train, y_train,scoring=\"neg_mean_squared_error\", cv=10,n_jobs=-1)\n",
    "    score = np.sqrt(-reg_score)\n",
    "    temp.append(score)\n",
    "    display_scores(score)\n",
    "# print(\"Mean: \",(score(),label))\n",
    " "
   ]
  },
  {
   "cell_type": "markdown",
   "id": "ae604525",
   "metadata": {},
   "source": [
    "### ex1 : Mean: 0.5446016581033308\n",
    "### ex2 : Mean: 0.5444995574697368\n",
    "### ada : Mean: 0.5445143894942798\n",
    "### voting : Mean: 0.5445272568010208"
   ]
  },
  {
   "cell_type": "markdown",
   "id": "b9a8abcf",
   "metadata": {},
   "source": [
    "# Stacking"
   ]
  },
  {
   "cell_type": "code",
   "execution_count": 38,
   "id": "436a2e71",
   "metadata": {},
   "outputs": [
    {
     "data": {
      "text/plain": [
       "StackingRegressor(estimators=[('ex',\n",
       "                               ExtraTreesRegressor(n_estimators=400,\n",
       "                                                   random_state=42)),\n",
       "                              ('model1',\n",
       "                               AdaBoostRegressor(base_estimator=ExtraTreesRegressor(max_depth=50,\n",
       "                                                                                    n_estimators=500,\n",
       "                                                                                    random_state=42))),\n",
       "                              ('svr',\n",
       "                               Pipeline(steps=[('standardscaler',\n",
       "                                                StandardScaler()),\n",
       "                                               ('svr',\n",
       "                                                SVR(C=50, coef0=100,\n",
       "                                                    degree=18))]))],\n",
       "                  final_estimator=ExtraTreesRegressor(max_depth=30,\n",
       "                                                      n_estimators=600,\n",
       "                                                      random_state=42))"
      ]
     },
     "execution_count": 38,
     "metadata": {},
     "output_type": "execute_result"
    }
   ],
   "source": [
    "from sklearn.ensemble import StackingRegressor\n",
    "from sklearn.ensemble import ExtraTreesRegressor\n",
    "from sklearn.svm import SVR\n",
    "from sklearn.preprocessing import StandardScaler\n",
    "from sklearn.pipeline import make_pipeline\n",
    "\n",
    "ada_reg= AdaBoostRegressor(n_estimators=500, random_state=42, learning_rate=2)\n",
    "ada_reg.fit(X_train, y_train)\n",
    "\n",
    "estimators = [\n",
    "     ('ex', ExtraTreesRegressor(n_estimators=400, random_state=42)),\n",
    "     ('model1', AdaBoostRegressor(base_estimator=ExtraTreesRegressor(n_estimators=500, random_state=42,max_depth=50))),\n",
    "\n",
    "     ('svr',make_pipeline(StandardScaler(),\n",
    "                           SVR(kernel=\"rbf\",gamma=\"scale\",degree=18,coef0=100,C=50)))\n",
    " ]\n",
    "reg = StackingRegressor(\n",
    "     estimators=estimators, final_estimator= ExtraTreesRegressor(n_estimators=600,max_depth=30, random_state=42)\n",
    ")\n",
    "reg.fit(X_train, y_train)\n"
   ]
  },
  {
   "cell_type": "code",
   "execution_count": 40,
   "id": "97e1b903",
   "metadata": {},
   "outputs": [
    {
     "name": "stdout",
     "output_type": "stream",
     "text": [
      "Scores: [0.6280354  0.6042202  0.63926212 0.58318207 0.59785261 0.58219114\n",
      " 0.5887105  0.60467956 0.56172324 0.54369225]\n",
      "Mean: 0.5933549082763601\n",
      "Standard deviation: 0.02700623689244713\n"
     ]
    }
   ],
   "source": [
    "from sklearn.model_selection import cross_val_score\n",
    "\n",
    "reg_scores = cross_val_score(reg,X_train, y_train, scoring=\"neg_mean_squared_error\", cv=10)\n",
    "score = np.sqrt(-reg_scores)\n",
    "display_scores(score)\n"
   ]
  },
  {
   "cell_type": "markdown",
   "id": "8d24b783",
   "metadata": {},
   "source": [
    "# Stacking"
   ]
  },
  {
   "cell_type": "code",
   "execution_count": 43,
   "id": "f84d3301",
   "metadata": {},
   "outputs": [
    {
     "data": {
      "text/plain": [
       "StackingRegressor(estimators=[('ex',\n",
       "                               ExtraTreesRegressor(n_estimators=400,\n",
       "                                                   random_state=42)),\n",
       "                              ('model1',\n",
       "                               AdaBoostRegressor(base_estimator=ExtraTreesRegressor(max_depth=50,\n",
       "                                                                                    n_estimators=500,\n",
       "                                                                                    random_state=42)))],\n",
       "                  final_estimator=ExtraTreesRegressor(max_depth=30,\n",
       "                                                      n_estimators=600,\n",
       "                                                      random_state=42))"
      ]
     },
     "execution_count": 43,
     "metadata": {},
     "output_type": "execute_result"
    }
   ],
   "source": [
    "from sklearn.ensemble import StackingRegressor\n",
    "from sklearn.ensemble import ExtraTreesRegressor\n",
    "from sklearn.svm import SVR\n",
    "from sklearn.preprocessing import StandardScaler\n",
    "from sklearn.pipeline import make_pipeline\n",
    "\n",
    "ada_reg= AdaBoostRegressor(n_estimators=500, random_state=42, learning_rate=2)\n",
    "ada_reg.fit(X_train, y_train)\n",
    "\n",
    "estimators = [\n",
    "     ('ex', ExtraTreesRegressor(n_estimators=400, random_state=42)),\n",
    "     ('model1', AdaBoostRegressor(base_estimator=ExtraTreesRegressor(n_estimators=500, random_state=42,max_depth=50))),\n",
    "\n",
    "     #('svr',make_pipeline(StandardScaler(),\n",
    "                           SVR(kernel=\"rbf\",gamma=\"scale\",degree=18,coef0=100,C=50)))\n",
    " ]\n",
    "reg = StackingRegressor(\n",
    "     estimators=estimators, final_estimator= ExtraTreesRegressor(n_estimators=600,max_depth=30, random_state=42)\n",
    ")\n",
    "reg.fit(X_train, y_train)\n"
   ]
  },
  {
   "cell_type": "code",
   "execution_count": 44,
   "id": "b02d2a11",
   "metadata": {},
   "outputs": [
    {
     "name": "stdout",
     "output_type": "stream",
     "text": [
      "Scores: [0.60901424 0.6774765  0.63927058 0.6233675  0.62162022 0.61905543\n",
      " 0.59884424 0.62664782 0.58347486 0.60870258]\n",
      "Mean: 0.6207473954129392\n",
      "Standard deviation: 0.02399653884428279\n"
     ]
    }
   ],
   "source": [
    "from sklearn.model_selection import cross_val_score\n",
    "\n",
    "reg_scores = cross_val_score(reg,X_train, y_train, scoring=\"neg_mean_squared_error\", cv=10)\n",
    "score = np.sqrt(-reg_scores)\n",
    "display_scores(score)\n"
   ]
  },
  {
   "cell_type": "markdown",
   "id": "7ec12d79",
   "metadata": {},
   "source": [
    "# AdaBoost(ExtraTrees)"
   ]
  },
  {
   "cell_type": "code",
   "execution_count": 47,
   "id": "888f2803",
   "metadata": {},
   "outputs": [
    {
     "data": {
      "text/plain": [
       "AdaBoostRegressor(base_estimator=ExtraTreesRegressor(max_depth=50,\n",
       "                                                     n_estimators=500,\n",
       "                                                     random_state=42))"
      ]
     },
     "execution_count": 47,
     "metadata": {},
     "output_type": "execute_result"
    }
   ],
   "source": [
    "from sklearn.ensemble import AdaBoostRegressor\n",
    "from sklearn.ensemble import ExtraTreesRegressor\n",
    "from sklearn.model_selection import cross_val_score\n",
    "\n",
    "ada_reg= AdaBoostRegressor(n_estimators=500, random_state=42, learning_rate=2)\n",
    "ada_reg.fit(X_train, y_train)\n",
    "model1 = AdaBoostRegressor(base_estimator=ExtraTreesRegressor(n_estimators=500, random_state=42,max_depth=50))\n",
    "model1.fit(X_train, y_train)"
   ]
  },
  {
   "cell_type": "code",
   "execution_count": 48,
   "id": "964450b4",
   "metadata": {},
   "outputs": [
    {
     "name": "stdout",
     "output_type": "stream",
     "text": [
      "Scores: [0.53429956 0.52094256 0.57275529 0.53706857 0.56432807 0.56774792\n",
      " 0.54300589 0.572844   0.52016012 0.51619866]\n",
      "Mean: 0.5449350655054588\n",
      "Standard deviation: 0.021548376805195158\n"
     ]
    }
   ],
   "source": [
    "model1_scores = cross_val_score(model1, X_train, y_train, scoring=\"neg_mean_squared_error\", cv=10)\n",
    "model1_rmse_scores = np.sqrt(-model1_scores)\n",
    "display_scores(model1_rmse_scores)"
   ]
  },
  {
   "cell_type": "markdown",
   "id": "e149da23",
   "metadata": {},
   "source": [
    "# Adaboost"
   ]
  },
  {
   "cell_type": "code",
   "execution_count": 50,
   "id": "916f9b57",
   "metadata": {},
   "outputs": [
    {
     "name": "stdout",
     "output_type": "stream",
     "text": [
      "Scores: [0.52988065 0.51689483 0.5720813  0.536759   0.56572415 0.56750595\n",
      " 0.54291333 0.57166404 0.5179278  0.51702579]\n",
      "Mean: 0.5438376838915974\n",
      "Standard deviation: 0.02230042753300183\n"
     ]
    }
   ],
   "source": [
    "from sklearn.ensemble import AdaBoostRegressor\n",
    "from sklearn.ensemble import ExtraTreesRegressor\n",
    "from sklearn.model_selection import cross_val_score\n",
    "\n",
    "ada_reg= AdaBoostRegressor(n_estimators=500, random_state=42, learning_rate=1.5)\n",
    "ada_reg.fit(X_train, y_train)\n",
    "model1 = AdaBoostRegressor(base_estimator=ExtraTreesRegressor(n_estimators=600, random_state=42,max_depth=50))\n",
    "model1.fit(X_train, y_train)\n",
    "\n",
    "model1_scores = cross_val_score(model1, X_train, y_train, scoring=\"neg_mean_squared_error\", cv=10)\n",
    "model1_rmse_scores = np.sqrt(-model1_scores)\n",
    "display_scores(model1_rmse_scores)"
   ]
  },
  {
   "cell_type": "code",
   "execution_count": null,
   "id": "f35e067d",
   "metadata": {},
   "outputs": [],
   "source": []
  }
 ],
 "metadata": {
  "kernelspec": {
   "display_name": "Python 3 (ipykernel)",
   "language": "python",
   "name": "python3"
  },
  "language_info": {
   "codemirror_mode": {
    "name": "ipython",
    "version": 3
   },
   "file_extension": ".py",
   "mimetype": "text/x-python",
   "name": "python",
   "nbconvert_exporter": "python",
   "pygments_lexer": "ipython3",
   "version": "3.9.7"
  }
 },
 "nbformat": 4,
 "nbformat_minor": 5
}
