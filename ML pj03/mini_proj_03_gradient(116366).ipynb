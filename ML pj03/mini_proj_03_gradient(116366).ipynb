{
 "cells": [
  {
   "cell_type": "code",
   "execution_count": 2,
   "id": "cb12b808",
   "metadata": {},
   "outputs": [],
   "source": [
    "import numpy as np\n",
    "import pandas as pd\n",
    "# import sklearn\n",
    "\n",
    "input_file = \"kc_house_data.csv\"\n",
    "df = pd.read_csv(input_file)"
   ]
  },
  {
   "cell_type": "code",
   "execution_count": 3,
   "id": "95c2bb27",
   "metadata": {},
   "outputs": [],
   "source": [
    "from sklearn.utils import shuffle\n",
    "df = shuffle(df, random_state=42)"
   ]
  },
  {
   "cell_type": "code",
   "execution_count": 4,
   "id": "b7cfe929",
   "metadata": {},
   "outputs": [
    {
     "name": "stdout",
     "output_type": "stream",
     "text": [
      "<class 'pandas.core.frame.DataFrame'>\n",
      "Int64Index: 21613 entries, 735 to 15795\n",
      "Data columns (total 21 columns):\n",
      " #   Column         Non-Null Count  Dtype  \n",
      "---  ------         --------------  -----  \n",
      " 0   id             21613 non-null  int64  \n",
      " 1   date           21613 non-null  object \n",
      " 2   price          21613 non-null  float64\n",
      " 3   bedrooms       21613 non-null  int64  \n",
      " 4   bathrooms      21613 non-null  float64\n",
      " 5   sqft_living    21613 non-null  int64  \n",
      " 6   sqft_lot       21613 non-null  int64  \n",
      " 7   floors         21613 non-null  float64\n",
      " 8   waterfront     21613 non-null  int64  \n",
      " 9   view           21613 non-null  int64  \n",
      " 10  condition      21613 non-null  int64  \n",
      " 11  grade          21613 non-null  int64  \n",
      " 12  sqft_above     21613 non-null  int64  \n",
      " 13  sqft_basement  21613 non-null  int64  \n",
      " 14  yr_built       21613 non-null  int64  \n",
      " 15  yr_renovated   21613 non-null  int64  \n",
      " 16  zipcode        21613 non-null  int64  \n",
      " 17  lat            21613 non-null  float64\n",
      " 18  long           21613 non-null  float64\n",
      " 19  sqft_living15  21613 non-null  int64  \n",
      " 20  sqft_lot15     21613 non-null  int64  \n",
      "dtypes: float64(5), int64(15), object(1)\n",
      "memory usage: 3.6+ MB\n"
     ]
    }
   ],
   "source": [
    "df.info()"
   ]
  },
  {
   "cell_type": "code",
   "execution_count": 5,
   "id": "57c05b75",
   "metadata": {},
   "outputs": [],
   "source": [
    "corr_matrix=df.corr()"
   ]
  },
  {
   "cell_type": "code",
   "execution_count": 6,
   "id": "cac4e3bf",
   "metadata": {},
   "outputs": [
    {
     "data": {
      "text/plain": [
       "price            1.000000\n",
       "sqft_living      0.702035\n",
       "grade            0.667434\n",
       "sqft_above       0.605567\n",
       "sqft_living15    0.585379\n",
       "bathrooms        0.525138\n",
       "view             0.397293\n",
       "sqft_basement    0.323816\n",
       "bedrooms         0.308350\n",
       "lat              0.307003\n",
       "waterfront       0.266369\n",
       "floors           0.256794\n",
       "yr_renovated     0.126434\n",
       "sqft_lot         0.089661\n",
       "sqft_lot15       0.082447\n",
       "yr_built         0.054012\n",
       "condition        0.036362\n",
       "long             0.021626\n",
       "id              -0.016762\n",
       "zipcode         -0.053203\n",
       "Name: price, dtype: float64"
      ]
     },
     "execution_count": 6,
     "metadata": {},
     "output_type": "execute_result"
    }
   ],
   "source": [
    "corr_matrix[\"price\"].sort_values(ascending=False)"
   ]
  },
  {
   "cell_type": "code",
   "execution_count": 7,
   "id": "b78774fc",
   "metadata": {},
   "outputs": [],
   "source": [
    "df['total_rooms'] = df['sqft_living']+ df['bedrooms'] + df['bathrooms']\n",
    "df['sqft_total_size'] = df['sqft_living'] + df['sqft_above'] + df['sqft_basement']\n",
    "df['yard'] = df['sqft_lot']-df['sqft_living']\n",
    "#df['b'] = df[\"sqft_living\"] / df['sqft_living15']\n",
    "df['d'] = df['grade'] * df['condition']\n",
    "df['total_condition']=df['condition']/df['yr_built'] \n",
    "df[\"outsideview\"] = df[\"waterfront\"]+df[\"lat\"]\n",
    "df[\"location\"]=df['long']*df['lat']\n",
    "df[\"outsideview2\"] = df[\"waterfront\"]*df[\"view\"]+df['lat']\n",
    "df[\"grade^2\"]=df[\"grade\"]**2\n",
    "df[\"long*view\"]=df[\"long\"]*df[\"view\"]\n"
   ]
  },
  {
   "cell_type": "code",
   "execution_count": 8,
   "id": "b2a2af3b",
   "metadata": {},
   "outputs": [],
   "source": [
    "housing_prepared = df.drop(([\"price\",\"date\",\"yr_renovated\",\"bathrooms\"]),axis=1)\n",
    "housing_labels = df[\"price\"].copy()\n"
   ]
  },
  {
   "cell_type": "code",
   "execution_count": 9,
   "id": "cd3cc189",
   "metadata": {},
   "outputs": [],
   "source": [
    "corr_matrix=df.corr()"
   ]
  },
  {
   "cell_type": "code",
   "execution_count": 10,
   "id": "af3d121e",
   "metadata": {},
   "outputs": [
    {
     "name": "stdout",
     "output_type": "stream",
     "text": [
      "<class 'pandas.core.frame.DataFrame'>\n",
      "Int64Index: 21613 entries, 735 to 15795\n",
      "Data columns (total 31 columns):\n",
      " #   Column           Non-Null Count  Dtype  \n",
      "---  ------           --------------  -----  \n",
      " 0   id               21613 non-null  int64  \n",
      " 1   date             21613 non-null  object \n",
      " 2   price            21613 non-null  float64\n",
      " 3   bedrooms         21613 non-null  int64  \n",
      " 4   bathrooms        21613 non-null  float64\n",
      " 5   sqft_living      21613 non-null  int64  \n",
      " 6   sqft_lot         21613 non-null  int64  \n",
      " 7   floors           21613 non-null  float64\n",
      " 8   waterfront       21613 non-null  int64  \n",
      " 9   view             21613 non-null  int64  \n",
      " 10  condition        21613 non-null  int64  \n",
      " 11  grade            21613 non-null  int64  \n",
      " 12  sqft_above       21613 non-null  int64  \n",
      " 13  sqft_basement    21613 non-null  int64  \n",
      " 14  yr_built         21613 non-null  int64  \n",
      " 15  yr_renovated     21613 non-null  int64  \n",
      " 16  zipcode          21613 non-null  int64  \n",
      " 17  lat              21613 non-null  float64\n",
      " 18  long             21613 non-null  float64\n",
      " 19  sqft_living15    21613 non-null  int64  \n",
      " 20  sqft_lot15       21613 non-null  int64  \n",
      " 21  total_rooms      21613 non-null  float64\n",
      " 22  sqft_total_size  21613 non-null  int64  \n",
      " 23  yard             21613 non-null  int64  \n",
      " 24  d                21613 non-null  int64  \n",
      " 25  total_condition  21613 non-null  float64\n",
      " 26  outsideview      21613 non-null  float64\n",
      " 27  location         21613 non-null  float64\n",
      " 28  outsideview2     21613 non-null  float64\n",
      " 29  grade^2          21613 non-null  int64  \n",
      " 30  long*view        21613 non-null  float64\n",
      "dtypes: float64(11), int64(19), object(1)\n",
      "memory usage: 5.3+ MB\n"
     ]
    }
   ],
   "source": [
    "df.info()"
   ]
  },
  {
   "cell_type": "code",
   "execution_count": 11,
   "id": "dbe64b20",
   "metadata": {},
   "outputs": [
    {
     "data": {
      "text/plain": [
       "price              1.000000\n",
       "sqft_total_size    0.702035\n",
       "sqft_living        0.702035\n",
       "total_rooms        0.701933\n",
       "grade^2            0.692402\n",
       "grade              0.667434\n",
       "sqft_above         0.605567\n",
       "sqft_living15      0.585379\n",
       "bathrooms          0.525138\n",
       "d                  0.490904\n",
       "outsideview        0.404086\n",
       "view               0.397293\n",
       "outsideview2       0.366842\n",
       "sqft_basement      0.323816\n",
       "bedrooms           0.308350\n",
       "lat                0.307003\n",
       "waterfront         0.266369\n",
       "floors             0.256794\n",
       "yr_renovated       0.126434\n",
       "sqft_lot           0.089661\n",
       "sqft_lot15         0.082447\n",
       "yard               0.074361\n",
       "yr_built           0.054012\n",
       "condition          0.036362\n",
       "total_condition    0.032805\n",
       "long               0.021626\n",
       "id                -0.016762\n",
       "zipcode           -0.053203\n",
       "location          -0.265504\n",
       "long*view         -0.397268\n",
       "Name: price, dtype: float64"
      ]
     },
     "execution_count": 11,
     "metadata": {},
     "output_type": "execute_result"
    }
   ],
   "source": [
    "corr_matrix[\"price\"].sort_values(ascending=False)"
   ]
  },
  {
   "cell_type": "code",
   "execution_count": 12,
   "id": "35d968c3",
   "metadata": {},
   "outputs": [
    {
     "data": {
      "text/plain": [
       "Index(['id', 'date', 'price', 'bedrooms', 'bathrooms', 'sqft_living',\n",
       "       'sqft_lot', 'floors', 'waterfront', 'view', 'condition', 'grade',\n",
       "       'sqft_above', 'sqft_basement', 'yr_built', 'yr_renovated', 'zipcode',\n",
       "       'lat', 'long', 'sqft_living15', 'sqft_lot15', 'total_rooms',\n",
       "       'sqft_total_size', 'yard', 'd', 'total_condition', 'outsideview',\n",
       "       'location', 'outsideview2', 'grade^2', 'long*view'],\n",
       "      dtype='object')"
      ]
     },
     "execution_count": 12,
     "metadata": {},
     "output_type": "execute_result"
    }
   ],
   "source": [
    "df.columns"
   ]
  },
  {
   "cell_type": "code",
   "execution_count": 13,
   "id": "ca713539",
   "metadata": {},
   "outputs": [],
   "source": [
    "def display_scores(scores):\n",
    "    print(\"Scores:\", scores)\n",
    "    print(\"Mean:\", scores.mean())\n",
    "    print(\"Standard deviation:\", scores.std())"
   ]
  },
  {
   "cell_type": "markdown",
   "id": "7f55ab58",
   "metadata": {},
   "source": [
    "# GradientBoost"
   ]
  },
  {
   "cell_type": "code",
   "execution_count": 18,
   "id": "44387125",
   "metadata": {},
   "outputs": [
    {
     "name": "stdout",
     "output_type": "stream",
     "text": [
      "Scores: [126187.18505143 136031.02060184 114542.86148565 119260.42062384\n",
      " 123855.80494768 104808.96927713 106909.19070706 109398.37271893\n",
      " 113488.68978963 109180.46960896]\n",
      "Mean: 116366.29848121472\n",
      "Standard deviation: 9393.732938755158\n"
     ]
    }
   ],
   "source": [
    "from sklearn.ensemble import GradientBoostingRegressor\n",
    "from sklearn.model_selection import cross_val_score\n",
    "\n",
    "reg = GradientBoostingRegressor(random_state=42,n_estimators=1000)\n",
    "reg.fit(housing_prepared, housing_labels)\n",
    "\n",
    "reg_score=cross_val_score(reg,housing_prepared, housing_labels,scoring=\"neg_mean_squared_error\", cv=10)\n",
    "score = np.sqrt(-reg_score)\n",
    "display_scores(score)"
   ]
  }
 ],
 "metadata": {
  "kernelspec": {
   "display_name": "Python 3 (ipykernel)",
   "language": "python",
   "name": "python3"
  },
  "language_info": {
   "codemirror_mode": {
    "name": "ipython",
    "version": 3
   },
   "file_extension": ".py",
   "mimetype": "text/x-python",
   "name": "python",
   "nbconvert_exporter": "python",
   "pygments_lexer": "ipython3",
   "version": "3.9.7"
  }
 },
 "nbformat": 4,
 "nbformat_minor": 5
}
