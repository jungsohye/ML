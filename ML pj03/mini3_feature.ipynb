{
 "cells": [
  {
   "cell_type": "code",
   "execution_count": 2,
   "id": "7e45264e",
   "metadata": {},
   "outputs": [
    {
     "ename": "ModuleNotFoundError",
     "evalue": "No module named 'numpy'",
     "output_type": "error",
     "traceback": [
      "\u001b[1;31m---------------------------------------------------------------------------\u001b[0m",
      "\u001b[1;31mModuleNotFoundError\u001b[0m                       Traceback (most recent call last)",
      "\u001b[1;32m~\\AppData\\Local\\Temp/ipykernel_17288/576714332.py\u001b[0m in \u001b[0;36m<module>\u001b[1;34m\u001b[0m\n\u001b[1;32m----> 1\u001b[1;33m \u001b[1;32mimport\u001b[0m \u001b[0mnumpy\u001b[0m \u001b[1;32mas\u001b[0m \u001b[0mnp\u001b[0m\u001b[1;33m\u001b[0m\u001b[1;33m\u001b[0m\u001b[0m\n\u001b[0m\u001b[0;32m      2\u001b[0m \u001b[1;32mimport\u001b[0m \u001b[0mpandas\u001b[0m \u001b[1;32mas\u001b[0m \u001b[0mpd\u001b[0m\u001b[1;33m\u001b[0m\u001b[1;33m\u001b[0m\u001b[0m\n\u001b[0;32m      3\u001b[0m \u001b[1;33m\u001b[0m\u001b[0m\n\u001b[0;32m      4\u001b[0m \u001b[0minput_file\u001b[0m \u001b[1;33m=\u001b[0m \u001b[1;34m\"kc_house_data.csv\"\u001b[0m\u001b[1;33m\u001b[0m\u001b[1;33m\u001b[0m\u001b[0m\n\u001b[0;32m      5\u001b[0m \u001b[0mdf\u001b[0m \u001b[1;33m=\u001b[0m \u001b[0mpd\u001b[0m\u001b[1;33m.\u001b[0m\u001b[0mread_csv\u001b[0m\u001b[1;33m(\u001b[0m\u001b[0minput_file\u001b[0m\u001b[1;33m)\u001b[0m\u001b[1;33m\u001b[0m\u001b[1;33m\u001b[0m\u001b[0m\n",
      "\u001b[1;31mModuleNotFoundError\u001b[0m: No module named 'numpy'"
     ]
    }
   ],
   "source": [
    "import numpy as np\n",
    "import pandas as pd\n",
    "\n",
    "input_file = \"kc_house_data.csv\"\n",
    "df = pd.read_csv(input_file)"
   ]
  },
  {
   "cell_type": "code",
   "execution_count": null,
   "id": "f4518c10",
   "metadata": {
    "scrolled": true
   },
   "outputs": [
    {
     "name": "stdout",
     "output_type": "stream",
     "text": [
      "<class 'pandas.core.frame.DataFrame'>\n",
      "RangeIndex: 21613 entries, 0 to 21612\n",
      "Data columns (total 21 columns):\n",
      " #   Column         Non-Null Count  Dtype  \n",
      "---  ------         --------------  -----  \n",
      " 0   id             21613 non-null  int64  \n",
      " 1   date           21613 non-null  object \n",
      " 2   price          21613 non-null  float64\n",
      " 3   bedrooms       21613 non-null  int64  \n",
      " 4   bathrooms      21613 non-null  float64\n",
      " 5   sqft_living    21613 non-null  int64  \n",
      " 6   sqft_lot       21613 non-null  int64  \n",
      " 7   floors         21613 non-null  float64\n",
      " 8   waterfront     21613 non-null  int64  \n",
      " 9   view           21613 non-null  int64  \n",
      " 10  condition      21613 non-null  int64  \n",
      " 11  grade          21613 non-null  int64  \n",
      " 12  sqft_above     21613 non-null  int64  \n",
      " 13  sqft_basement  21613 non-null  int64  \n",
      " 14  yr_built       21613 non-null  int64  \n",
      " 15  yr_renovated   21613 non-null  int64  \n",
      " 16  zipcode        21613 non-null  int64  \n",
      " 17  lat            21613 non-null  float64\n",
      " 18  long           21613 non-null  float64\n",
      " 19  sqft_living15  21613 non-null  int64  \n",
      " 20  sqft_lot15     21613 non-null  int64  \n",
      "dtypes: float64(5), int64(15), object(1)\n",
      "memory usage: 3.5+ MB\n"
     ]
    }
   ],
   "source": [
    "df.info()"
   ]
  },
  {
   "cell_type": "code",
   "execution_count": null,
   "id": "6e700288",
   "metadata": {},
   "outputs": [],
   "source": [
    "corr_matrix=df.corr()"
   ]
  },
  {
   "cell_type": "code",
   "execution_count": null,
   "id": "d11f6481",
   "metadata": {},
   "outputs": [
    {
     "data": {
      "text/plain": [
       "price            1.000000\n",
       "sqft_living      0.702035\n",
       "grade            0.667434\n",
       "sqft_above       0.605567\n",
       "sqft_living15    0.585379\n",
       "bathrooms        0.525138\n",
       "view             0.397293\n",
       "sqft_basement    0.323816\n",
       "bedrooms         0.308350\n",
       "lat              0.307003\n",
       "waterfront       0.266369\n",
       "floors           0.256794\n",
       "yr_renovated     0.126434\n",
       "sqft_lot         0.089661\n",
       "sqft_lot15       0.082447\n",
       "yr_built         0.054012\n",
       "condition        0.036362\n",
       "long             0.021626\n",
       "id              -0.016762\n",
       "zipcode         -0.053203\n",
       "Name: price, dtype: float64"
      ]
     },
     "execution_count": 4,
     "metadata": {},
     "output_type": "execute_result"
    }
   ],
   "source": [
    "corr_matrix[\"price\"].sort_values(ascending=False)"
   ]
  },
  {
   "cell_type": "code",
   "execution_count": null,
   "id": "af1f9879",
   "metadata": {},
   "outputs": [],
   "source": [
    "df['total_rooms'] = df['bedrooms'] + df['bathrooms']\n",
    "df['sqft_total_size'] = df['sqft_above'] + df['sqft_basement']\n",
    "df['yard'] = df['sqft_lot']-df['sqft_above']\n",
    "df['b'] = df[\"sqft_living\"] / df['sqft_living15']\n",
    "df['c'] = df['sqft_lot'] / df['sqft_lot15']\n",
    "df['d'] = df['grade'] + df['condition']\n",
    "df[\"e\"] = df[\"sqft_living\"] + df[\"sqft_living15\"]\n",
    "df[\"f\"] = df[\"sqft_lot\"] + df[\"sqft_lot15\"]\n"
   ]
  },
  {
   "cell_type": "code",
   "execution_count": null,
   "id": "4f87c991",
   "metadata": {},
   "outputs": [
    {
     "name": "stdout",
     "output_type": "stream",
     "text": [
      "<class 'pandas.core.frame.DataFrame'>\n",
      "RangeIndex: 21613 entries, 0 to 21612\n",
      "Data columns (total 29 columns):\n",
      " #   Column           Non-Null Count  Dtype  \n",
      "---  ------           --------------  -----  \n",
      " 0   id               21613 non-null  int64  \n",
      " 1   date             21613 non-null  object \n",
      " 2   price            21613 non-null  float64\n",
      " 3   bedrooms         21613 non-null  int64  \n",
      " 4   bathrooms        21613 non-null  float64\n",
      " 5   sqft_living      21613 non-null  int64  \n",
      " 6   sqft_lot         21613 non-null  int64  \n",
      " 7   floors           21613 non-null  float64\n",
      " 8   waterfront       21613 non-null  int64  \n",
      " 9   view             21613 non-null  int64  \n",
      " 10  condition        21613 non-null  int64  \n",
      " 11  grade            21613 non-null  int64  \n",
      " 12  sqft_above       21613 non-null  int64  \n",
      " 13  sqft_basement    21613 non-null  int64  \n",
      " 14  yr_built         21613 non-null  int64  \n",
      " 15  yr_renovated     21613 non-null  int64  \n",
      " 16  zipcode          21613 non-null  int64  \n",
      " 17  lat              21613 non-null  float64\n",
      " 18  long             21613 non-null  float64\n",
      " 19  sqft_living15    21613 non-null  int64  \n",
      " 20  sqft_lot15       21613 non-null  int64  \n",
      " 21  total_rooms      21613 non-null  float64\n",
      " 22  sqft_total_size  21613 non-null  int64  \n",
      " 23  per_price        21613 non-null  float64\n",
      " 24  yard             21613 non-null  int64  \n",
      " 25  a                21613 non-null  int64  \n",
      " 26  b                21613 non-null  float64\n",
      " 27  c                21613 non-null  float64\n",
      " 28  d                21613 non-null  int64  \n",
      "dtypes: float64(9), int64(19), object(1)\n",
      "memory usage: 4.8+ MB\n"
     ]
    }
   ],
   "source": [
    "df.info()"
   ]
  },
  {
   "cell_type": "code",
   "execution_count": null,
   "id": "8764522e",
   "metadata": {},
   "outputs": [],
   "source": [
    "corr_matrix=df.corr()"
   ]
  },
  {
   "cell_type": "code",
   "execution_count": null,
   "id": "07a5f199",
   "metadata": {},
   "outputs": [
    {
     "data": {
      "text/plain": [
       "price              1.000000\n",
       "sqft_living        0.702035\n",
       "sqft_total_size    0.702035\n",
       "grade              0.667434\n",
       "d                  0.642192\n",
       "sqft_above         0.605567\n",
       "sqft_living15      0.585379\n",
       "per_price          0.554703\n",
       "bathrooms          0.525138\n",
       "total_rooms        0.466319\n",
       "view               0.397293\n",
       "sqft_basement      0.323816\n",
       "bedrooms           0.308350\n",
       "lat                0.307003\n",
       "b                  0.302192\n",
       "waterfront         0.266369\n",
       "floors             0.256794\n",
       "yr_renovated       0.126434\n",
       "sqft_lot           0.089661\n",
       "sqft_lot15         0.082447\n",
       "yard               0.077825\n",
       "a                  0.055248\n",
       "yr_built           0.054012\n",
       "c                  0.041843\n",
       "condition          0.036362\n",
       "long               0.021626\n",
       "id                -0.016762\n",
       "zipcode           -0.053203\n",
       "Name: price, dtype: float64"
      ]
     },
     "execution_count": 82,
     "metadata": {},
     "output_type": "execute_result"
    }
   ],
   "source": [
    "corr_matrix[\"price\"].sort_values(ascending=False)"
   ]
  },
  {
   "cell_type": "code",
   "execution_count": null,
   "id": "f587ee0c",
   "metadata": {},
   "outputs": [
    {
     "data": {
      "text/plain": [
       "Index(['id', 'date', 'price', 'bedrooms', 'bathrooms', 'sqft_living',\n",
       "       'sqft_lot', 'floors', 'waterfront', 'view', 'condition', 'grade',\n",
       "       'sqft_above', 'sqft_basement', 'yr_built', 'yr_renovated', 'zipcode',\n",
       "       'lat', 'long', 'sqft_living15', 'sqft_lot15', 'total_rooms',\n",
       "       'sqft_total_size', 'per_price', 'yard', 'a', 'b', 'c', 'd'],\n",
       "      dtype='object')"
      ]
     },
     "execution_count": 83,
     "metadata": {},
     "output_type": "execute_result"
    }
   ],
   "source": [
    "df.columns"
   ]
  },
  {
   "cell_type": "code",
   "execution_count": null,
   "id": "c358d762",
   "metadata": {},
   "outputs": [],
   "source": [
    "housing_prepared = df.drop(([\"price\",\"date\",\"id\",\"zipcode\"]),axis=1)\n",
    "housing_labels = df[\"price\"].copy()\n"
   ]
  },
  {
   "cell_type": "code",
   "execution_count": null,
   "id": "e52e97cf",
   "metadata": {},
   "outputs": [],
   "source": [
    "def display_scores(scores):\n",
    "    print(\"Scores:\", scores)\n",
    "    print(\"Mean:\", scores.mean())\n",
    "    print(\"Standard deviation:\", scores.std())"
   ]
  },
  {
   "cell_type": "code",
   "execution_count": null,
   "id": "bb2240fe",
   "metadata": {},
   "outputs": [
    {
     "name": "stdout",
     "output_type": "stream",
     "text": [
      "Scores: [134795.48928509 139612.14817018 110996.20766014 142083.54548969\n",
      " 117947.63368353 115485.82883792 109905.44483866 113278.8702499\n",
      " 120042.57448705 118538.17953529]\n",
      "Mean: 122268.59222374535\n",
      "Standard deviation: 11378.186672800623\n"
     ]
    }
   ],
   "source": [
    "from sklearn.model_selection import cross_val_score\n",
    "from sklearn.linear_model import LinearRegression\n",
    "\n",
    "lin_reg = LinearRegression()\n",
    "lin_scores = cross_val_score(lin_reg, housing_prepared, housing_labels, scoring=\"neg_mean_squared_error\", cv=10)\n",
    "\n",
    "lin_rmse_scores = np.sqrt(-lin_scores)\n",
    "display_scores(lin_rmse_scores)"
   ]
  },
  {
   "cell_type": "code",
   "execution_count": null,
   "id": "edae68ce",
   "metadata": {},
   "outputs": [],
   "source": []
  }
 ],
 "metadata": {
  "kernelspec": {
   "display_name": "Python 3",
   "language": "python",
   "name": "python3"
  },
  "language_info": {
   "codemirror_mode": {
    "name": "ipython",
    "version": 3
   },
   "file_extension": ".py",
   "mimetype": "text/x-python",
   "name": "python",
   "nbconvert_exporter": "python",
   "pygments_lexer": "ipython3",
   "version": "3.8.8"
  }
 },
 "nbformat": 4,
 "nbformat_minor": 5
}
