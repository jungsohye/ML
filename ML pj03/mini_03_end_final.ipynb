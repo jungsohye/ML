{
 "cells": [
  {
   "cell_type": "code",
   "execution_count": 1,
   "id": "cb12b808",
   "metadata": {},
   "outputs": [],
   "source": [
    "import numpy as np\n",
    "import pandas as pd\n",
    "# import sklearn\n",
    "\n",
    "input_file = \"kc_house_data.csv\"\n",
    "df = pd.read_csv(input_file)"
   ]
  },
  {
   "cell_type": "code",
   "execution_count": 2,
   "id": "95c2bb27",
   "metadata": {},
   "outputs": [],
   "source": [
    "from sklearn.utils import shuffle\n",
    "df = shuffle(df, random_state=42)"
   ]
  },
  {
   "cell_type": "code",
   "execution_count": 3,
   "id": "b7cfe929",
   "metadata": {},
   "outputs": [
    {
     "name": "stdout",
     "output_type": "stream",
     "text": [
      "<class 'pandas.core.frame.DataFrame'>\n",
      "Int64Index: 21613 entries, 735 to 15795\n",
      "Data columns (total 21 columns):\n",
      " #   Column         Non-Null Count  Dtype  \n",
      "---  ------         --------------  -----  \n",
      " 0   id             21613 non-null  int64  \n",
      " 1   date           21613 non-null  object \n",
      " 2   price          21613 non-null  float64\n",
      " 3   bedrooms       21613 non-null  int64  \n",
      " 4   bathrooms      21613 non-null  float64\n",
      " 5   sqft_living    21613 non-null  int64  \n",
      " 6   sqft_lot       21613 non-null  int64  \n",
      " 7   floors         21613 non-null  float64\n",
      " 8   waterfront     21613 non-null  int64  \n",
      " 9   view           21613 non-null  int64  \n",
      " 10  condition      21613 non-null  int64  \n",
      " 11  grade          21613 non-null  int64  \n",
      " 12  sqft_above     21613 non-null  int64  \n",
      " 13  sqft_basement  21613 non-null  int64  \n",
      " 14  yr_built       21613 non-null  int64  \n",
      " 15  yr_renovated   21613 non-null  int64  \n",
      " 16  zipcode        21613 non-null  int64  \n",
      " 17  lat            21613 non-null  float64\n",
      " 18  long           21613 non-null  float64\n",
      " 19  sqft_living15  21613 non-null  int64  \n",
      " 20  sqft_lot15     21613 non-null  int64  \n",
      "dtypes: float64(5), int64(15), object(1)\n",
      "memory usage: 3.6+ MB\n"
     ]
    }
   ],
   "source": [
    "df.info()"
   ]
  },
  {
   "cell_type": "code",
   "execution_count": 4,
   "id": "57c05b75",
   "metadata": {},
   "outputs": [],
   "source": [
    "corr_matrix=df.corr()"
   ]
  },
  {
   "cell_type": "code",
   "execution_count": 5,
   "id": "cac4e3bf",
   "metadata": {},
   "outputs": [
    {
     "data": {
      "text/plain": [
       "price            1.000000\n",
       "sqft_living      0.702035\n",
       "grade            0.667434\n",
       "sqft_above       0.605567\n",
       "sqft_living15    0.585379\n",
       "bathrooms        0.525138\n",
       "view             0.397293\n",
       "sqft_basement    0.323816\n",
       "bedrooms         0.308350\n",
       "lat              0.307003\n",
       "waterfront       0.266369\n",
       "floors           0.256794\n",
       "yr_renovated     0.126434\n",
       "sqft_lot         0.089661\n",
       "sqft_lot15       0.082447\n",
       "yr_built         0.054012\n",
       "condition        0.036362\n",
       "long             0.021626\n",
       "id              -0.016762\n",
       "zipcode         -0.053203\n",
       "Name: price, dtype: float64"
      ]
     },
     "execution_count": 5,
     "metadata": {},
     "output_type": "execute_result"
    }
   ],
   "source": [
    "corr_matrix[\"price\"].sort_values(ascending=False)"
   ]
  },
  {
   "cell_type": "code",
   "execution_count": 6,
   "id": "b78774fc",
   "metadata": {},
   "outputs": [],
   "source": [
    "df['total_rooms'] = df['sqft_living']+ df['bedrooms'] + df['bathrooms']\n",
    "df['sqft_total_size'] = df['sqft_living'] + df['sqft_above'] + df['sqft_basement']\n",
    "df['yard'] = df['sqft_lot']-df['sqft_living']\n",
    "#df['b'] = df[\"sqft_living\"] / df['sqft_living15']\n",
    "df['d'] = df['grade'] * df['condition']\n",
    "df['total_condition']=df['condition']/df['yr_built'] \n",
    "df[\"outsideview\"] = df[\"waterfront\"]+df[\"lat\"]\n",
    "df[\"location\"]=df['long']*df['lat']\n",
    "df[\"outsideview2\"] = df[\"waterfront\"]*df[\"view\"]+df['lat']\n",
    "df[\"grade^2\"]=df[\"grade\"]**2\n",
    "df[\"long*view\"]=df[\"long\"]*df[\"view\"]\n"
   ]
  },
  {
   "cell_type": "code",
   "execution_count": 7,
   "id": "b2a2af3b",
   "metadata": {},
   "outputs": [],
   "source": [
    "housing_prepared = df.drop(([\"price\",\"date\",\"yr_renovated\",\"bathrooms\"]),axis=1)\n",
    "housing_labels = df[\"price\"].copy()\n"
   ]
  },
  {
   "cell_type": "code",
   "execution_count": 8,
   "id": "cd3cc189",
   "metadata": {},
   "outputs": [],
   "source": [
    "corr_matrix=df.corr()"
   ]
  },
  {
   "cell_type": "code",
   "execution_count": 9,
   "id": "af3d121e",
   "metadata": {},
   "outputs": [
    {
     "name": "stdout",
     "output_type": "stream",
     "text": [
      "<class 'pandas.core.frame.DataFrame'>\n",
      "Int64Index: 21613 entries, 735 to 15795\n",
      "Data columns (total 31 columns):\n",
      " #   Column           Non-Null Count  Dtype  \n",
      "---  ------           --------------  -----  \n",
      " 0   id               21613 non-null  int64  \n",
      " 1   date             21613 non-null  object \n",
      " 2   price            21613 non-null  float64\n",
      " 3   bedrooms         21613 non-null  int64  \n",
      " 4   bathrooms        21613 non-null  float64\n",
      " 5   sqft_living      21613 non-null  int64  \n",
      " 6   sqft_lot         21613 non-null  int64  \n",
      " 7   floors           21613 non-null  float64\n",
      " 8   waterfront       21613 non-null  int64  \n",
      " 9   view             21613 non-null  int64  \n",
      " 10  condition        21613 non-null  int64  \n",
      " 11  grade            21613 non-null  int64  \n",
      " 12  sqft_above       21613 non-null  int64  \n",
      " 13  sqft_basement    21613 non-null  int64  \n",
      " 14  yr_built         21613 non-null  int64  \n",
      " 15  yr_renovated     21613 non-null  int64  \n",
      " 16  zipcode          21613 non-null  int64  \n",
      " 17  lat              21613 non-null  float64\n",
      " 18  long             21613 non-null  float64\n",
      " 19  sqft_living15    21613 non-null  int64  \n",
      " 20  sqft_lot15       21613 non-null  int64  \n",
      " 21  total_rooms      21613 non-null  float64\n",
      " 22  sqft_total_size  21613 non-null  int64  \n",
      " 23  yard             21613 non-null  int64  \n",
      " 24  d                21613 non-null  int64  \n",
      " 25  total_condition  21613 non-null  float64\n",
      " 26  outsideview      21613 non-null  float64\n",
      " 27  location         21613 non-null  float64\n",
      " 28  outsideview2     21613 non-null  float64\n",
      " 29  grade^2          21613 non-null  int64  \n",
      " 30  long*view        21613 non-null  float64\n",
      "dtypes: float64(11), int64(19), object(1)\n",
      "memory usage: 5.3+ MB\n"
     ]
    }
   ],
   "source": [
    "df.info()"
   ]
  },
  {
   "cell_type": "code",
   "execution_count": 10,
   "id": "dbe64b20",
   "metadata": {},
   "outputs": [
    {
     "data": {
      "text/plain": [
       "price              1.000000\n",
       "sqft_total_size    0.702035\n",
       "sqft_living        0.702035\n",
       "total_rooms        0.701933\n",
       "grade^2            0.692402\n",
       "grade              0.667434\n",
       "sqft_above         0.605567\n",
       "sqft_living15      0.585379\n",
       "bathrooms          0.525138\n",
       "d                  0.490904\n",
       "outsideview        0.404086\n",
       "view               0.397293\n",
       "outsideview2       0.366842\n",
       "sqft_basement      0.323816\n",
       "bedrooms           0.308350\n",
       "lat                0.307003\n",
       "waterfront         0.266369\n",
       "floors             0.256794\n",
       "yr_renovated       0.126434\n",
       "sqft_lot           0.089661\n",
       "sqft_lot15         0.082447\n",
       "yard               0.074361\n",
       "yr_built           0.054012\n",
       "condition          0.036362\n",
       "total_condition    0.032805\n",
       "long               0.021626\n",
       "id                -0.016762\n",
       "zipcode           -0.053203\n",
       "location          -0.265504\n",
       "long*view         -0.397268\n",
       "Name: price, dtype: float64"
      ]
     },
     "execution_count": 10,
     "metadata": {},
     "output_type": "execute_result"
    }
   ],
   "source": [
    "corr_matrix[\"price\"].sort_values(ascending=False)"
   ]
  },
  {
   "cell_type": "code",
   "execution_count": 11,
   "id": "35d968c3",
   "metadata": {},
   "outputs": [
    {
     "data": {
      "text/plain": [
       "Index(['id', 'date', 'price', 'bedrooms', 'bathrooms', 'sqft_living',\n",
       "       'sqft_lot', 'floors', 'waterfront', 'view', 'condition', 'grade',\n",
       "       'sqft_above', 'sqft_basement', 'yr_built', 'yr_renovated', 'zipcode',\n",
       "       'lat', 'long', 'sqft_living15', 'sqft_lot15', 'total_rooms',\n",
       "       'sqft_total_size', 'yard', 'd', 'total_condition', 'outsideview',\n",
       "       'location', 'outsideview2', 'grade^2', 'long*view'],\n",
       "      dtype='object')"
      ]
     },
     "execution_count": 11,
     "metadata": {},
     "output_type": "execute_result"
    }
   ],
   "source": [
    "df.columns"
   ]
  },
  {
   "cell_type": "code",
   "execution_count": 12,
   "id": "ca713539",
   "metadata": {},
   "outputs": [],
   "source": [
    "def display_scores(scores):\n",
    "    print(\"Scores:\", scores)\n",
    "    print(\"Mean:\", scores.mean())\n",
    "    print(\"Standard deviation:\", scores.std())"
   ]
  },
  {
   "cell_type": "code",
   "execution_count": 32,
   "id": "ef153e3f",
   "metadata": {},
   "outputs": [
    {
     "data": {
      "text/plain": [
       "ExtraTreesRegressor(max_depth=30, n_estimators=1000, random_state=42)"
      ]
     },
     "execution_count": 32,
     "metadata": {},
     "output_type": "execute_result"
    }
   ],
   "source": [
    "from sklearn.ensemble import ExtraTreesRegressor\n",
    "\n",
    "rnd_reg = ExtraTreesRegressor(n_estimators=1000, random_state=42,max_depth=30)\n",
    "rnd_reg.fit(housing_prepared, housing_labels)"
   ]
  },
  {
   "cell_type": "code",
   "execution_count": 33,
   "id": "519fe77e",
   "metadata": {},
   "outputs": [],
   "source": [
    "from sklearn.model_selection import cross_val_score\n",
    "from sklearn.ensemble import ExtraTreesRegressor\n",
    "\n",
    "rnd_reg = ExtraTreesRegressor(n_estimators=1000, random_state=42,max_depth=30)\n",
    "rnd_reg.fit(housing_prepared, housing_labels)\n",
    "temp = []\n",
    "model = [rnd_reg]\n",
    "def cv10(model, housing_prepared, housing_labels):\n",
    "    model.fit(housing_prepared, housing_labels)\n",
    "    model_scores = cross_val_score(model, housing_prepared, housing_labels, scoring=\"neg_mean_squared_error\", cv=10, n_jobs=-1)\n",
    "    model_rmse_scores = np.sqrt(-model_scores)\n",
    "    temp.append(model_rmse_scores)\n"
   ]
  },
  {
   "cell_type": "code",
   "execution_count": 34,
   "id": "694523eb",
   "metadata": {},
   "outputs": [],
   "source": [
    "for i in model:\n",
    "    scores = cv10(i, housing_prepared,housing_labels)\n"
   ]
  },
  {
   "cell_type": "code",
   "execution_count": 35,
   "id": "03cf6063",
   "metadata": {},
   "outputs": [
    {
     "data": {
      "text/plain": [
       "nan"
      ]
     },
     "execution_count": 35,
     "metadata": {},
     "output_type": "execute_result"
    }
   ],
   "source": [
    "pd.Series(*temp).mean()"
   ]
  },
  {
   "cell_type": "markdown",
   "id": "4d079b29",
   "metadata": {},
   "source": [
    "# Stacking"
   ]
  },
  {
   "cell_type": "code",
   "execution_count": 17,
   "id": "91429472",
   "metadata": {},
   "outputs": [
    {
     "data": {
      "text/plain": [
       "StackingRegressor(estimators=[('ex',\n",
       "                               ExtraTreesRegressor(n_estimators=400,\n",
       "                                                   random_state=42)),\n",
       "                              ('svr',\n",
       "                               Pipeline(steps=[('standardscaler',\n",
       "                                                StandardScaler()),\n",
       "                                               ('svr',\n",
       "                                                SVR(C=50, coef0=100,\n",
       "                                                    degree=18))]))],\n",
       "                  final_estimator=ExtraTreesRegressor(max_depth=30,\n",
       "                                                      n_estimators=600,\n",
       "                                                      n_jobs=-1,\n",
       "                                                      random_state=42))"
      ]
     },
     "execution_count": 17,
     "metadata": {},
     "output_type": "execute_result"
    }
   ],
   "source": [
    "from sklearn.ensemble import StackingRegressor\n",
    "from sklearn.linear_model import LogisticRegression\n",
    "from sklearn.ensemble import ExtraTreesRegressor\n",
    "from sklearn.svm import SVR\n",
    "from sklearn.preprocessing import StandardScaler\n",
    "from sklearn.pipeline import make_pipeline\n",
    "\n",
    "estimators = [\n",
    "     ('ex', ExtraTreesRegressor(n_estimators=1000, random_state=42)),\n",
    "     ('svr', make_pipeline(StandardScaler(),\n",
    "                           SVR(kernel=\"rbf\",gamma=\"scale\",degree=18,coef0=100,C=50)))\n",
    " ]\n",
    "reg = StackingRegressor(\n",
    "     estimators=estimators, final_estimator= ExtraTreesRegressor(n_estimators=600,max_depth=30, random_state=42,n_jobs=-1)\n",
    ")\n",
    "reg.fit(housing_prepared, housing_labels)\n"
   ]
  },
  {
   "cell_type": "code",
   "execution_count": 20,
   "id": "6af2977e",
   "metadata": {},
   "outputs": [
    {
     "name": "stdout",
     "output_type": "stream",
     "text": [
      "Scores: [150820.14695008 162984.4673912  141549.5635203  161638.18756682\n",
      " 146489.43164253 125713.75796903 129585.45054999 127120.25001896\n",
      " 134118.75947174 125959.11289971]\n",
      "Mean: 140597.9127980352\n",
      "Standard deviation: 13655.381237315203\n"
     ]
    }
   ],
   "source": [
    "reg_scores = cross_val_score(reg, housing_prepared, housing_labels, scoring=\"neg_mean_squared_error\", cv=10,n_jobs=-1)\n",
    "score = np.sqrt(-reg_scores)\n",
    "display_scores(score)"
   ]
  },
  {
   "cell_type": "markdown",
   "id": "118c3b4b",
   "metadata": {},
   "source": [
    "# voting"
   ]
  },
  {
   "cell_type": "code",
   "execution_count": null,
   "id": "5694ff77",
   "metadata": {},
   "outputs": [],
   "source": [
    "from sklearn.ensemble import VotingRegressor\n",
    "from sklearn.tree import DecisionTreeRegressor\n",
    "from sklearn.ensemble import ExtraTreesRegressor\n",
    "\n",
    "ex1_reg = ExtraTreesRegressor(n_estimators=1000, random_state=42,max_depth=30)\n",
    "ex1_reg.fit(housing_prepared, housing_labels)\n",
    "ex2_reg = ExtraTreesRegressor(n_estimators=800, random_state=42,max_depth=60)\n",
    "ex2_reg.fit(housing_prepared, housing_labels)\n",
    "ex3_reg = ExtraTreesRegressor(n_estimators=500, random_state=42,max_depth=30)\n",
    "ex3_reg.fit(housing_prepared, housing_labels)\n",
    "\n",
    "voting_reg = VotingRegressor(\n",
    "    estimators=[('ex1',ex1_reg), ('ex2',ex2_reg),('ex3',ex3_reg)])\n",
    "\n",
    "voting_reg.fit(housing_prepared, housing_labels)\n",
    "\n"
   ]
  },
  {
   "cell_type": "code",
   "execution_count": null,
   "id": "b110886c",
   "metadata": {},
   "outputs": [],
   "source": [
    "from sklearn.model_selection import cross_val_score \n",
    "temp=[]\n",
    "for reg in ( ex1_reg, ex2_reg,ex3_reg, voting_reg):\n",
    "    reg_score=cross_val_score(voting_reg,housing_prepared, housing_labels,scoring=\"neg_mean_squared_error\", cv=10)\n",
    "    score = np.sqrt(-reg_score)\n",
    "    temp.append(score)\n",
    "    display_scores(score)\n",
    "\n",
    " "
   ]
  },
  {
   "cell_type": "markdown",
   "id": "7f55ab58",
   "metadata": {},
   "source": [
    "# GradientBoost"
   ]
  },
  {
   "cell_type": "code",
   "execution_count": 15,
   "id": "a7c62bcf",
   "metadata": {},
   "outputs": [
    {
     "name": "stdout",
     "output_type": "stream",
     "text": [
      "Scores: [130004.59125339 139323.70853095 120131.36368748 124834.54339411\n",
      " 131087.78209124 109767.76265585 114172.19319994 115930.63993785\n",
      " 116088.43610888 112460.62169026]\n",
      "Mean: 121380.1642549944\n",
      "Standard deviation: 9100.232214799817\n"
     ]
    }
   ],
   "source": [
    "from sklearn.ensemble import GradientBoostingRegressor\n",
    "from sklearn.model_selection import cross_val_score\n",
    "\n",
    "reg = GradientBoostingRegressor(random_state=42,n_estimators=300)\n",
    "reg.fit(housing_prepared, housing_labels)\n",
    "\n",
    "reg_score=cross_val_score(reg,housing_prepared, housing_labels,scoring=\"neg_mean_squared_error\", cv=10)\n",
    "score = np.sqrt(-reg_score)\n",
    "display_scores(score)"
   ]
  },
  {
   "cell_type": "code",
   "execution_count": 16,
   "id": "0b19c563",
   "metadata": {},
   "outputs": [
    {
     "name": "stdout",
     "output_type": "stream",
     "text": [
      "Scores: [128157.63789574 137474.62987423 116205.74095711 121612.10358556\n",
      " 126779.45821955 107045.32628859 109616.4484432  113217.63470883\n",
      " 114453.0638022  110892.94990436]\n",
      "Mean: 118545.49936793605\n",
      "Standard deviation: 9214.441997592598\n"
     ]
    }
   ],
   "source": [
    "from sklearn.ensemble import GradientBoostingRegressor\n",
    "from sklearn.model_selection import cross_val_score\n",
    "\n",
    "reg = GradientBoostingRegressor(random_state=42,n_estimators=500)\n",
    "reg.fit(housing_prepared, housing_labels)\n",
    "\n",
    "reg_score=cross_val_score(reg,housing_prepared, housing_labels,scoring=\"neg_mean_squared_error\", cv=10)\n",
    "score = np.sqrt(-reg_score)\n",
    "display_scores(score)"
   ]
  },
  {
   "cell_type": "code",
   "execution_count": 18,
   "id": "44387125",
   "metadata": {},
   "outputs": [
    {
     "name": "stdout",
     "output_type": "stream",
     "text": [
      "Scores: [126187.18505143 136031.02060184 114542.86148565 119260.42062384\n",
      " 123855.80494768 104808.96927713 106909.19070706 109398.37271893\n",
      " 113488.68978963 109180.46960896]\n",
      "Mean: 116366.29848121472\n",
      "Standard deviation: 9393.732938755158\n"
     ]
    }
   ],
   "source": [
    "from sklearn.ensemble import GradientBoostingRegressor\n",
    "from sklearn.model_selection import cross_val_score\n",
    "\n",
    "reg = GradientBoostingRegressor(random_state=42,n_estimators=1000)\n",
    "reg.fit(housing_prepared, housing_labels)\n",
    "\n",
    "reg_score=cross_val_score(reg,housing_prepared, housing_labels,scoring=\"neg_mean_squared_error\", cv=10)\n",
    "score = np.sqrt(-reg_score)\n",
    "display_scores(score)"
   ]
  },
  {
   "cell_type": "markdown",
   "id": "3d6045cb",
   "metadata": {},
   "source": [
    "# voting"
   ]
  },
  {
   "cell_type": "code",
   "execution_count": 17,
   "id": "14daae2e",
   "metadata": {},
   "outputs": [
    {
     "data": {
      "text/plain": [
       "VotingRegressor(estimators=[('ex',\n",
       "                             ExtraTreesRegressor(n_estimators=1000,\n",
       "                                                 random_state=42)),\n",
       "                            ('gb',\n",
       "                             GradientBoostingRegressor(n_estimators=1000,\n",
       "                                                       random_state=42))])"
      ]
     },
     "execution_count": 17,
     "metadata": {},
     "output_type": "execute_result"
    }
   ],
   "source": [
    "from sklearn.ensemble import VotingRegressor\n",
    "from sklearn.ensemble import GradientBoostingRegressor\n",
    "from sklearn.ensemble import ExtraTreesRegressor\n",
    "\n",
    "ex_reg = ExtraTreesRegressor(n_estimators=1000, random_state=42)\n",
    "ex_reg.fit(housing_prepared, housing_labels)\n",
    "gb_reg = GradientBoostingRegressor(random_state=42,n_estimators=1000)\n",
    "gb_reg.fit(housing_prepared, housing_labels)\n",
    "\n",
    "voting_reg = VotingRegressor(\n",
    "    estimators=[('ex',ex_reg), ('gb',gb_reg)])\n",
    "\n",
    "voting_reg.fit(housing_prepared, housing_labels)\n",
    "\n"
   ]
  },
  {
   "cell_type": "code",
   "execution_count": 18,
   "id": "cc53bc2c",
   "metadata": {},
   "outputs": [
    {
     "name": "stdout",
     "output_type": "stream",
     "text": [
      "Scores: [124782.41667135 142009.63120499 115286.6029985  125707.6577528\n",
      " 118636.83200339 105307.6625922  107546.69511257 105579.95473095\n",
      " 110898.21326228 107106.03683915]\n",
      "Mean: 116286.17031681693\n",
      "Standard deviation: 11198.240288736877\n",
      "Scores: [124782.41667135 142009.63120499 115286.6029985  125707.6577528\n",
      " 118636.83200339 105307.6625922  107546.69511257 105579.95473095\n",
      " 110898.21326228 107106.03683915]\n",
      "Mean: 116286.17031681693\n",
      "Standard deviation: 11198.240288736877\n",
      "Scores: [124782.41667135 142009.63120499 115286.6029985  125707.6577528\n",
      " 118636.83200339 105307.6625922  107546.69511257 105579.95473095\n",
      " 110898.21326228 107106.03683915]\n",
      "Mean: 116286.17031681693\n",
      "Standard deviation: 11198.240288736877\n"
     ]
    }
   ],
   "source": [
    "from sklearn.model_selection import cross_val_score \n",
    "temp=[]\n",
    "for reg in ( ex_reg, gb_reg, voting_reg):\n",
    "    reg_score=cross_val_score(voting_reg,housing_prepared, housing_labels,scoring=\"neg_mean_squared_error\", cv=10)\n",
    "    score = np.sqrt(-reg_score)\n",
    "    temp.append(score)\n",
    "    display_scores(score)\n",
    "\n",
    " "
   ]
  },
  {
   "cell_type": "code",
   "execution_count": null,
   "id": "f42dd47c",
   "metadata": {},
   "outputs": [],
   "source": [
    "from sklearn.ensemble import VotingRegressor\n",
    "from sklearn.ensemble import GradientBoostingRegressor\n",
    "from sklearn.ensemble import ExtraTreesRegressor\n",
    "\n",
    "ex_reg = ExtraTreesRegressor(n_estimators=1000, random_state=42,max_depth=30)\n",
    "ex_reg.fit(housing_prepared, housing_labels)\n",
    "gb_reg = GradientBoostingRegressor(random_state=42,n_estimators=2000,min_samples_split=3)\n",
    "gb_reg.fit(housing_prepared, housing_labels)\n",
    "\n",
    "voting_reg = VotingRegressor(\n",
    "    estimators=[('ex',ex_reg), ('gb',gb_reg)])\n",
    "\n",
    "voting_reg.fit(housing_prepared, housing_labels)\n",
    "\n"
   ]
  },
  {
   "cell_type": "code",
   "execution_count": null,
   "id": "7d989b05",
   "metadata": {},
   "outputs": [],
   "source": [
    "from sklearn.model_selection import cross_val_score \n",
    "temp=[]\n",
    "for reg in ( ex_reg, gb_reg, voting_reg):\n",
    "    reg_score=cross_val_score(voting_reg,housing_prepared, housing_labels,scoring=\"neg_mean_squared_error\", cv=10,n_jobs=-1)\n",
    "    score = np.sqrt(-reg_score)\n",
    "    temp.append(score)\n",
    "    display_scores(score)\n",
    "\n",
    " "
   ]
  },
  {
   "cell_type": "code",
   "execution_count": null,
   "id": "d751277a",
   "metadata": {},
   "outputs": [],
   "source": []
  },
  {
   "cell_type": "code",
   "execution_count": null,
   "id": "44cd3d3d",
   "metadata": {},
   "outputs": [],
   "source": []
  }
 ],
 "metadata": {
  "kernelspec": {
   "display_name": "Python 3 (ipykernel)",
   "language": "python",
   "name": "python3"
  },
  "language_info": {
   "codemirror_mode": {
    "name": "ipython",
    "version": 3
   },
   "file_extension": ".py",
   "mimetype": "text/x-python",
   "name": "python",
   "nbconvert_exporter": "python",
   "pygments_lexer": "ipython3",
   "version": "3.9.7"
  }
 },
 "nbformat": 4,
 "nbformat_minor": 5
}
