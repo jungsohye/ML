{
 "cells": [
  {
   "cell_type": "code",
   "execution_count": 1,
   "id": "df184509",
   "metadata": {},
   "outputs": [],
   "source": [
    "import numpy as np\n",
    "import pandas as pd\n",
    "\n",
    "input_file =\"emnist-digits-train.csv\" \n",
    "mnist = pd.read_csv(input_file, header=None)"
   ]
  },
  {
   "cell_type": "code",
   "execution_count": 2,
   "id": "56b9e4c6",
   "metadata": {},
   "outputs": [
    {
     "name": "stdout",
     "output_type": "stream",
     "text": [
      "<class 'pandas.core.frame.DataFrame'>\n",
      "RangeIndex: 240000 entries, 0 to 239999\n",
      "Columns: 785 entries, 0 to 784\n",
      "dtypes: int64(785)\n",
      "memory usage: 1.4 GB\n"
     ]
    }
   ],
   "source": [
    "mnist.info()"
   ]
  },
  {
   "cell_type": "code",
   "execution_count": 3,
   "id": "895704b6",
   "metadata": {},
   "outputs": [
    {
     "data": {
      "text/plain": [
       "array([[8, 0, 0, ..., 0, 0, 0],\n",
       "       [9, 0, 0, ..., 0, 0, 0],\n",
       "       [6, 0, 0, ..., 0, 0, 0],\n",
       "       ...,\n",
       "       [1, 0, 0, ..., 0, 0, 0],\n",
       "       [1, 0, 0, ..., 0, 0, 0],\n",
       "       [0, 0, 0, ..., 0, 0, 0]], dtype=int64)"
      ]
     },
     "execution_count": 3,
     "metadata": {},
     "output_type": "execute_result"
    }
   ],
   "source": [
    "data_train = mnist.to_numpy()\n",
    "data_train"
   ]
  },
  {
   "cell_type": "code",
   "execution_count": 4,
   "id": "9501b9cf",
   "metadata": {},
   "outputs": [
    {
     "data": {
      "text/plain": [
       "(240000, 785)"
      ]
     },
     "execution_count": 4,
     "metadata": {},
     "output_type": "execute_result"
    }
   ],
   "source": [
    "data_train.shape"
   ]
  },
  {
   "cell_type": "code",
   "execution_count": 5,
   "id": "4b10d655",
   "metadata": {},
   "outputs": [],
   "source": [
    "X_train = data_train[:, 1:]\n",
    "y_train = data_train[:, 0]"
   ]
  },
  {
   "cell_type": "code",
   "execution_count": 6,
   "id": "e5b73860",
   "metadata": {},
   "outputs": [
    {
     "data": {
      "text/plain": [
       "SGDClassifier(max_iter=15, random_state=42, tol=-inf)"
      ]
     },
     "execution_count": 6,
     "metadata": {},
     "output_type": "execute_result"
    }
   ],
   "source": [
    "from sklearn.linear_model import SGDClassifier\n",
    "\n",
    "sgd_clf = SGDClassifier(max_iter=15, tol=-np.infty, random_state=42)\n",
    "sgd_clf.fit(X_train, y_train)"
   ]
  },
  {
   "cell_type": "code",
   "execution_count": 7,
   "id": "54c924c8",
   "metadata": {},
   "outputs": [],
   "source": [
    "from sklearn.model_selection import cross_val_score\n",
    "\n",
    "scoring = cross_val_score(sgd_clf, X_train, y_train, cv=10, scoring=\"accuracy\")"
   ]
  },
  {
   "cell_type": "code",
   "execution_count": 8,
   "id": "c070f33b",
   "metadata": {},
   "outputs": [
    {
     "data": {
      "text/plain": [
       "0.8882833333333334"
      ]
     },
     "execution_count": 8,
     "metadata": {},
     "output_type": "execute_result"
    }
   ],
   "source": [
    "np.mean(scoring)"
   ]
  },
  {
   "cell_type": "code",
   "execution_count": 13,
   "id": "022d3ad5",
   "metadata": {},
   "outputs": [],
   "source": [
    "from sklearn.ensemble import RandomForestClassifier\n",
    "from sklearn.metrics import accuracy_score\n",
    "import pandas as pd\n",
    "import warnings\n",
    "warnings.filterwarnings('ignore')\n",
    "\n",
    "rf_clf = RandomForestClassifier(random_state=42)\n",
    "rf_clf.fit(X_train , y_train)\n",
    "scoring = cross_val_score(rf_clf, X_train, y_train, cv=10, scoring=\"accuracy\")\n"
   ]
  },
  {
   "cell_type": "code",
   "execution_count": 14,
   "id": "5d76371d",
   "metadata": {},
   "outputs": [
    {
     "name": "stdout",
     "output_type": "stream",
     "text": [
      "랜덤 포레스트 정확도: [0.98120833 0.98054167 0.98204167 0.980875   0.98008333 0.98170833\n",
      " 0.98258333 0.98129167 0.98058333 0.98075   ]\n"
     ]
    },
    {
     "data": {
      "text/plain": [
       "0.9811666666666667"
      ]
     },
     "execution_count": 14,
     "metadata": {},
     "output_type": "execute_result"
    }
   ],
   "source": [
    "print('랜덤 포레스트 정확도:', accuracy)\n",
    "np.mean(scoring)"
   ]
  },
  {
   "cell_type": "code",
   "execution_count": 15,
   "id": "362d3248",
   "metadata": {},
   "outputs": [
    {
     "data": {
      "text/plain": [
       "0.9819791666666667"
      ]
     },
     "execution_count": 15,
     "metadata": {},
     "output_type": "execute_result"
    }
   ],
   "source": [
    "from sklearn.ensemble import ExtraTreesClassifier\n",
    "from sklearn.model_selection import cross_val_score\n",
    "warnings.filterwarnings('ignore')\n",
    "\n",
    "ex_clf = RandomForestClassifier(n_estimators=500, max_depth=50, random_state=32)\n",
    "ex_clf.fit(X_train , y_train)\n",
    "ex_scores = cross_val_score(ex_clf, X_train, y_train, cv=10, scoring=\"accuracy\")\n",
    "np.mean(ex_scores)"
   ]
  },
  {
   "cell_type": "code",
   "execution_count": 16,
   "id": "c523fa9d",
   "metadata": {},
   "outputs": [
    {
     "data": {
      "text/plain": [
       "0.9821375"
      ]
     },
     "execution_count": 16,
     "metadata": {},
     "output_type": "execute_result"
    }
   ],
   "source": [
    "from sklearn.ensemble import ExtraTreesClassifier\n",
    "from sklearn.model_selection import cross_val_score\n",
    "warnings.filterwarnings('ignore')\n",
    "\n",
    "ex_clf = RandomForestClassifier(n_estimators=1000, max_depth=50, random_state=32)\n",
    "ex_clf.fit(X_train , y_train)\n",
    "ex_scores = cross_val_score(ex_clf, X_train, y_train, cv=10, scoring=\"accuracy\")\n",
    "np.mean(ex_scores)"
   ]
  },
  {
   "cell_type": "code",
   "execution_count": null,
   "id": "4a36388b",
   "metadata": {},
   "outputs": [],
   "source": [
    "from sklearn.ensemble import ExtraTreesClassifier\n",
    "from sklearn.model_selection import cross_val_score\n",
    "warnings.filterwarnings('ignore')\n",
    "\n",
    "ex_clf = RandomForestClassifier(n_estimators=1000, max_depth=50,criterion='gini',random_state=32)\n",
    "ex_clf.fit(X_train , y_train)\n",
    "ex_scores = cross_val_score(ex_clf, X_train, y_train, cv=10, scoring=\"accuracy\")\n",
    "np.mean(ex_scores)"
   ]
  },
  {
   "cell_type": "code",
   "execution_count": null,
   "id": "952d5642",
   "metadata": {},
   "outputs": [],
   "source": [
    "from sklearn.ensemble import ExtraTreesClassifier\n",
    "from sklearn.model_selection import cross_val_score\n",
    "warnings.filterwarnings('ignore')\n",
    "\n",
    "ex_clf = RandomForestClassifier(n_estimators=1000, max_depth=80,random_state=32)\n",
    "ex_clf.fit(X_train , y_train)\n",
    "ex_scores = cross_val_score(ex_clf, X_train, y_train, cv=10, scoring=\"accuracy\")\n",
    "np.mean(ex_scores)"
   ]
  }
 ],
 "metadata": {
  "kernelspec": {
   "display_name": "Python 3 (ipykernel)",
   "language": "python",
   "name": "python3"
  },
  "language_info": {
   "codemirror_mode": {
    "name": "ipython",
    "version": 3
   },
   "file_extension": ".py",
   "mimetype": "text/x-python",
   "name": "python",
   "nbconvert_exporter": "python",
   "pygments_lexer": "ipython3",
   "version": "3.9.7"
  }
 },
 "nbformat": 4,
 "nbformat_minor": 5
}
