{
 "cells": [
  {
   "cell_type": "code",
   "execution_count": 1,
   "id": "39c5fcc6",
   "metadata": {},
   "outputs": [],
   "source": [
    "import pandas as pd\n",
    "import seaborn as sns\n",
    "import numpy as np\n",
    "from pathlib import Path\n",
    "import os\n",
    "import matplotlib.pyplot as plt\n",
    "from sklearn.ensemble import RandomForestClassifier\n",
    "from sklearn.svm import SVC\n",
    "from sklearn.linear_model import SGDClassifier\n",
    "from sklearn.metrics import confusion_matrix, classification_report\n",
    "from sklearn.preprocessing import StandardScaler, LabelEncoder\n",
    "from sklearn.model_selection import train_test_split, GridSearchCV, cross_val_score, cross_val_predict\n",
    "%matplotlib inline\n",
    "input_file = \"train.csv\"\n",
    "df_train = pd.read_csv(input_file)"
   ]
  },
  {
   "cell_type": "code",
   "execution_count": 2,
   "id": "e93f8381",
   "metadata": {},
   "outputs": [],
   "source": [
    "from sklearn.utils import shuffle\n",
    "df_train = shuffle(df_train, random_state=42)"
   ]
  },
  {
   "cell_type": "code",
   "execution_count": 3,
   "id": "8d256ece",
   "metadata": {},
   "outputs": [
    {
     "name": "stdout",
     "output_type": "stream",
     "text": [
      "<class 'pandas.core.frame.DataFrame'>\n",
      "Int64Index: 7352 entries, 4525 to 7270\n",
      "Columns: 563 entries, tBodyAcc-mean()-X to Activity\n",
      "dtypes: float64(561), int64(1), object(1)\n",
      "memory usage: 31.6+ MB\n"
     ]
    }
   ],
   "source": [
    "df_train.info()"
   ]
  },
  {
   "cell_type": "code",
   "execution_count": 4,
   "id": "00e02d96",
   "metadata": {
    "scrolled": false
   },
   "outputs": [
    {
     "data": {
      "text/html": [
       "<div>\n",
       "<style scoped>\n",
       "    .dataframe tbody tr th:only-of-type {\n",
       "        vertical-align: middle;\n",
       "    }\n",
       "\n",
       "    .dataframe tbody tr th {\n",
       "        vertical-align: top;\n",
       "    }\n",
       "\n",
       "    .dataframe thead th {\n",
       "        text-align: right;\n",
       "    }\n",
       "</style>\n",
       "<table border=\"1\" class=\"dataframe\">\n",
       "  <thead>\n",
       "    <tr style=\"text-align: right;\">\n",
       "      <th></th>\n",
       "      <th>tBodyAcc-mean()-X</th>\n",
       "      <th>tBodyAcc-mean()-Y</th>\n",
       "      <th>tBodyAcc-mean()-Z</th>\n",
       "      <th>tBodyAcc-std()-X</th>\n",
       "      <th>tBodyAcc-std()-Y</th>\n",
       "      <th>tBodyAcc-std()-Z</th>\n",
       "      <th>tBodyAcc-mad()-X</th>\n",
       "      <th>tBodyAcc-mad()-Y</th>\n",
       "      <th>tBodyAcc-mad()-Z</th>\n",
       "      <th>tBodyAcc-max()-X</th>\n",
       "      <th>...</th>\n",
       "      <th>fBodyBodyGyroJerkMag-kurtosis()</th>\n",
       "      <th>angle(tBodyAccMean,gravity)</th>\n",
       "      <th>angle(tBodyAccJerkMean),gravityMean)</th>\n",
       "      <th>angle(tBodyGyroMean,gravityMean)</th>\n",
       "      <th>angle(tBodyGyroJerkMean,gravityMean)</th>\n",
       "      <th>angle(X,gravityMean)</th>\n",
       "      <th>angle(Y,gravityMean)</th>\n",
       "      <th>angle(Z,gravityMean)</th>\n",
       "      <th>subject</th>\n",
       "      <th>Activity</th>\n",
       "    </tr>\n",
       "  </thead>\n",
       "  <tbody>\n",
       "    <tr>\n",
       "      <th>4525</th>\n",
       "      <td>0.283203</td>\n",
       "      <td>-0.047024</td>\n",
       "      <td>-0.168986</td>\n",
       "      <td>0.384949</td>\n",
       "      <td>0.176898</td>\n",
       "      <td>-0.310332</td>\n",
       "      <td>0.381757</td>\n",
       "      <td>0.122611</td>\n",
       "      <td>-0.332984</td>\n",
       "      <td>0.465563</td>\n",
       "      <td>...</td>\n",
       "      <td>-0.932568</td>\n",
       "      <td>-0.034924</td>\n",
       "      <td>0.558036</td>\n",
       "      <td>0.258975</td>\n",
       "      <td>-0.854858</td>\n",
       "      <td>-0.784330</td>\n",
       "      <td>0.222960</td>\n",
       "      <td>-0.066506</td>\n",
       "      <td>22</td>\n",
       "      <td>WALKING_DOWNSTAIRS</td>\n",
       "    </tr>\n",
       "    <tr>\n",
       "      <th>1446</th>\n",
       "      <td>0.256904</td>\n",
       "      <td>-0.036623</td>\n",
       "      <td>-0.133856</td>\n",
       "      <td>0.201409</td>\n",
       "      <td>-0.154142</td>\n",
       "      <td>0.344183</td>\n",
       "      <td>0.092771</td>\n",
       "      <td>-0.182114</td>\n",
       "      <td>0.291899</td>\n",
       "      <td>0.586004</td>\n",
       "      <td>...</td>\n",
       "      <td>-0.338095</td>\n",
       "      <td>0.017986</td>\n",
       "      <td>-0.475545</td>\n",
       "      <td>0.942947</td>\n",
       "      <td>-0.567147</td>\n",
       "      <td>-0.665156</td>\n",
       "      <td>0.178975</td>\n",
       "      <td>0.243362</td>\n",
       "      <td>7</td>\n",
       "      <td>WALKING_DOWNSTAIRS</td>\n",
       "    </tr>\n",
       "    <tr>\n",
       "      <th>5995</th>\n",
       "      <td>0.291316</td>\n",
       "      <td>-0.001065</td>\n",
       "      <td>-0.072461</td>\n",
       "      <td>-0.336609</td>\n",
       "      <td>-0.279162</td>\n",
       "      <td>-0.303323</td>\n",
       "      <td>-0.381421</td>\n",
       "      <td>-0.253026</td>\n",
       "      <td>-0.337381</td>\n",
       "      <td>0.074430</td>\n",
       "      <td>...</td>\n",
       "      <td>-0.698254</td>\n",
       "      <td>-0.044663</td>\n",
       "      <td>-0.551806</td>\n",
       "      <td>-0.680774</td>\n",
       "      <td>0.161405</td>\n",
       "      <td>-0.857202</td>\n",
       "      <td>0.192929</td>\n",
       "      <td>0.046716</td>\n",
       "      <td>27</td>\n",
       "      <td>WALKING</td>\n",
       "    </tr>\n",
       "    <tr>\n",
       "      <th>4222</th>\n",
       "      <td>0.276116</td>\n",
       "      <td>-0.010909</td>\n",
       "      <td>-0.102886</td>\n",
       "      <td>-0.992196</td>\n",
       "      <td>-0.982169</td>\n",
       "      <td>-0.981127</td>\n",
       "      <td>-0.992838</td>\n",
       "      <td>-0.981366</td>\n",
       "      <td>-0.979864</td>\n",
       "      <td>-0.931924</td>\n",
       "      <td>...</td>\n",
       "      <td>-0.906098</td>\n",
       "      <td>-0.177275</td>\n",
       "      <td>-0.309304</td>\n",
       "      <td>0.176515</td>\n",
       "      <td>-0.143818</td>\n",
       "      <td>-0.625215</td>\n",
       "      <td>-0.106678</td>\n",
       "      <td>-0.147469</td>\n",
       "      <td>21</td>\n",
       "      <td>SITTING</td>\n",
       "    </tr>\n",
       "    <tr>\n",
       "      <th>6754</th>\n",
       "      <td>0.256382</td>\n",
       "      <td>0.000428</td>\n",
       "      <td>-0.113664</td>\n",
       "      <td>0.075014</td>\n",
       "      <td>0.046502</td>\n",
       "      <td>-0.369482</td>\n",
       "      <td>-0.024794</td>\n",
       "      <td>-0.085337</td>\n",
       "      <td>-0.385018</td>\n",
       "      <td>0.562230</td>\n",
       "      <td>...</td>\n",
       "      <td>-0.316113</td>\n",
       "      <td>0.347143</td>\n",
       "      <td>0.590475</td>\n",
       "      <td>0.831084</td>\n",
       "      <td>0.465453</td>\n",
       "      <td>-0.860617</td>\n",
       "      <td>0.150598</td>\n",
       "      <td>-0.067109</td>\n",
       "      <td>29</td>\n",
       "      <td>WALKING_DOWNSTAIRS</td>\n",
       "    </tr>\n",
       "  </tbody>\n",
       "</table>\n",
       "<p>5 rows × 563 columns</p>\n",
       "</div>"
      ],
      "text/plain": [
       "      tBodyAcc-mean()-X  tBodyAcc-mean()-Y  tBodyAcc-mean()-Z  \\\n",
       "4525           0.283203          -0.047024          -0.168986   \n",
       "1446           0.256904          -0.036623          -0.133856   \n",
       "5995           0.291316          -0.001065          -0.072461   \n",
       "4222           0.276116          -0.010909          -0.102886   \n",
       "6754           0.256382           0.000428          -0.113664   \n",
       "\n",
       "      tBodyAcc-std()-X  tBodyAcc-std()-Y  tBodyAcc-std()-Z  tBodyAcc-mad()-X  \\\n",
       "4525          0.384949          0.176898         -0.310332          0.381757   \n",
       "1446          0.201409         -0.154142          0.344183          0.092771   \n",
       "5995         -0.336609         -0.279162         -0.303323         -0.381421   \n",
       "4222         -0.992196         -0.982169         -0.981127         -0.992838   \n",
       "6754          0.075014          0.046502         -0.369482         -0.024794   \n",
       "\n",
       "      tBodyAcc-mad()-Y  tBodyAcc-mad()-Z  tBodyAcc-max()-X  ...  \\\n",
       "4525          0.122611         -0.332984          0.465563  ...   \n",
       "1446         -0.182114          0.291899          0.586004  ...   \n",
       "5995         -0.253026         -0.337381          0.074430  ...   \n",
       "4222         -0.981366         -0.979864         -0.931924  ...   \n",
       "6754         -0.085337         -0.385018          0.562230  ...   \n",
       "\n",
       "      fBodyBodyGyroJerkMag-kurtosis()  angle(tBodyAccMean,gravity)  \\\n",
       "4525                        -0.932568                    -0.034924   \n",
       "1446                        -0.338095                     0.017986   \n",
       "5995                        -0.698254                    -0.044663   \n",
       "4222                        -0.906098                    -0.177275   \n",
       "6754                        -0.316113                     0.347143   \n",
       "\n",
       "      angle(tBodyAccJerkMean),gravityMean)  angle(tBodyGyroMean,gravityMean)  \\\n",
       "4525                              0.558036                          0.258975   \n",
       "1446                             -0.475545                          0.942947   \n",
       "5995                             -0.551806                         -0.680774   \n",
       "4222                             -0.309304                          0.176515   \n",
       "6754                              0.590475                          0.831084   \n",
       "\n",
       "      angle(tBodyGyroJerkMean,gravityMean)  angle(X,gravityMean)  \\\n",
       "4525                             -0.854858             -0.784330   \n",
       "1446                             -0.567147             -0.665156   \n",
       "5995                              0.161405             -0.857202   \n",
       "4222                             -0.143818             -0.625215   \n",
       "6754                              0.465453             -0.860617   \n",
       "\n",
       "      angle(Y,gravityMean)  angle(Z,gravityMean)  subject            Activity  \n",
       "4525              0.222960             -0.066506       22  WALKING_DOWNSTAIRS  \n",
       "1446              0.178975              0.243362        7  WALKING_DOWNSTAIRS  \n",
       "5995              0.192929              0.046716       27             WALKING  \n",
       "4222             -0.106678             -0.147469       21             SITTING  \n",
       "6754              0.150598             -0.067109       29  WALKING_DOWNSTAIRS  \n",
       "\n",
       "[5 rows x 563 columns]"
      ]
     },
     "execution_count": 4,
     "metadata": {},
     "output_type": "execute_result"
    }
   ],
   "source": [
    "df_train.head()"
   ]
  },
  {
   "cell_type": "code",
   "execution_count": 5,
   "id": "a2c275e9",
   "metadata": {
    "scrolled": false
   },
   "outputs": [
    {
     "ename": "KeyboardInterrupt",
     "evalue": "",
     "output_type": "error",
     "traceback": [
      "\u001b[1;31m---------------------------------------------------------------------------\u001b[0m",
      "\u001b[1;31mKeyboardInterrupt\u001b[0m                         Traceback (most recent call last)",
      "\u001b[1;32m~\\AppData\\Local\\Temp/ipykernel_5988/459399435.py\u001b[0m in \u001b[0;36m<module>\u001b[1;34m\u001b[0m\n\u001b[0;32m      1\u001b[0m \u001b[0mfig\u001b[0m \u001b[1;33m=\u001b[0m \u001b[0mplt\u001b[0m\u001b[1;33m.\u001b[0m\u001b[0mfigure\u001b[0m\u001b[1;33m(\u001b[0m\u001b[0mfigsize\u001b[0m \u001b[1;33m=\u001b[0m \u001b[1;33m(\u001b[0m\u001b[1;36m10\u001b[0m\u001b[1;33m,\u001b[0m\u001b[1;36m6\u001b[0m\u001b[1;33m)\u001b[0m\u001b[1;33m)\u001b[0m\u001b[1;33m\u001b[0m\u001b[1;33m\u001b[0m\u001b[0m\n\u001b[1;32m----> 2\u001b[1;33m \u001b[0msns\u001b[0m\u001b[1;33m.\u001b[0m\u001b[0mbarplot\u001b[0m\u001b[1;33m(\u001b[0m\u001b[0mx\u001b[0m \u001b[1;33m=\u001b[0m \u001b[1;34m'Activity'\u001b[0m\u001b[1;33m,\u001b[0m \u001b[0my\u001b[0m \u001b[1;33m=\u001b[0m \u001b[1;34m'tBodyAcc-mean()-X'\u001b[0m\u001b[1;33m,\u001b[0m \u001b[0mdata\u001b[0m \u001b[1;33m=\u001b[0m \u001b[0mdf_train\u001b[0m\u001b[1;33m)\u001b[0m\u001b[1;33m\u001b[0m\u001b[1;33m\u001b[0m\u001b[0m\n\u001b[0m",
      "\u001b[1;32m~\\Anaconda3\\lib\\site-packages\\seaborn\\_decorators.py\u001b[0m in \u001b[0;36minner_f\u001b[1;34m(*args, **kwargs)\u001b[0m\n\u001b[0;32m     44\u001b[0m             )\n\u001b[0;32m     45\u001b[0m         \u001b[0mkwargs\u001b[0m\u001b[1;33m.\u001b[0m\u001b[0mupdate\u001b[0m\u001b[1;33m(\u001b[0m\u001b[1;33m{\u001b[0m\u001b[0mk\u001b[0m\u001b[1;33m:\u001b[0m \u001b[0marg\u001b[0m \u001b[1;32mfor\u001b[0m \u001b[0mk\u001b[0m\u001b[1;33m,\u001b[0m \u001b[0marg\u001b[0m \u001b[1;32min\u001b[0m \u001b[0mzip\u001b[0m\u001b[1;33m(\u001b[0m\u001b[0msig\u001b[0m\u001b[1;33m.\u001b[0m\u001b[0mparameters\u001b[0m\u001b[1;33m,\u001b[0m \u001b[0margs\u001b[0m\u001b[1;33m)\u001b[0m\u001b[1;33m}\u001b[0m\u001b[1;33m)\u001b[0m\u001b[1;33m\u001b[0m\u001b[1;33m\u001b[0m\u001b[0m\n\u001b[1;32m---> 46\u001b[1;33m         \u001b[1;32mreturn\u001b[0m \u001b[0mf\u001b[0m\u001b[1;33m(\u001b[0m\u001b[1;33m**\u001b[0m\u001b[0mkwargs\u001b[0m\u001b[1;33m)\u001b[0m\u001b[1;33m\u001b[0m\u001b[1;33m\u001b[0m\u001b[0m\n\u001b[0m\u001b[0;32m     47\u001b[0m     \u001b[1;32mreturn\u001b[0m \u001b[0minner_f\u001b[0m\u001b[1;33m\u001b[0m\u001b[1;33m\u001b[0m\u001b[0m\n\u001b[0;32m     48\u001b[0m \u001b[1;33m\u001b[0m\u001b[0m\n",
      "\u001b[1;32m~\\Anaconda3\\lib\\site-packages\\seaborn\\categorical.py\u001b[0m in \u001b[0;36mbarplot\u001b[1;34m(x, y, hue, data, order, hue_order, estimator, ci, n_boot, units, seed, orient, color, palette, saturation, errcolor, errwidth, capsize, dodge, ax, **kwargs)\u001b[0m\n\u001b[0;32m   3180\u001b[0m ):\n\u001b[0;32m   3181\u001b[0m \u001b[1;33m\u001b[0m\u001b[0m\n\u001b[1;32m-> 3182\u001b[1;33m     plotter = _BarPlotter(x, y, hue, data, order, hue_order,\n\u001b[0m\u001b[0;32m   3183\u001b[0m                           \u001b[0mestimator\u001b[0m\u001b[1;33m,\u001b[0m \u001b[0mci\u001b[0m\u001b[1;33m,\u001b[0m \u001b[0mn_boot\u001b[0m\u001b[1;33m,\u001b[0m \u001b[0munits\u001b[0m\u001b[1;33m,\u001b[0m \u001b[0mseed\u001b[0m\u001b[1;33m,\u001b[0m\u001b[1;33m\u001b[0m\u001b[1;33m\u001b[0m\u001b[0m\n\u001b[0;32m   3184\u001b[0m                           \u001b[0morient\u001b[0m\u001b[1;33m,\u001b[0m \u001b[0mcolor\u001b[0m\u001b[1;33m,\u001b[0m \u001b[0mpalette\u001b[0m\u001b[1;33m,\u001b[0m \u001b[0msaturation\u001b[0m\u001b[1;33m,\u001b[0m\u001b[1;33m\u001b[0m\u001b[1;33m\u001b[0m\u001b[0m\n",
      "\u001b[1;32m~\\Anaconda3\\lib\\site-packages\\seaborn\\categorical.py\u001b[0m in \u001b[0;36m__init__\u001b[1;34m(self, x, y, hue, data, order, hue_order, estimator, ci, n_boot, units, seed, orient, color, palette, saturation, errcolor, errwidth, capsize, dodge)\u001b[0m\n\u001b[0;32m   1585\u001b[0m                                  order, hue_order, units)\n\u001b[0;32m   1586\u001b[0m         \u001b[0mself\u001b[0m\u001b[1;33m.\u001b[0m\u001b[0mestablish_colors\u001b[0m\u001b[1;33m(\u001b[0m\u001b[0mcolor\u001b[0m\u001b[1;33m,\u001b[0m \u001b[0mpalette\u001b[0m\u001b[1;33m,\u001b[0m \u001b[0msaturation\u001b[0m\u001b[1;33m)\u001b[0m\u001b[1;33m\u001b[0m\u001b[1;33m\u001b[0m\u001b[0m\n\u001b[1;32m-> 1587\u001b[1;33m         \u001b[0mself\u001b[0m\u001b[1;33m.\u001b[0m\u001b[0mestimate_statistic\u001b[0m\u001b[1;33m(\u001b[0m\u001b[0mestimator\u001b[0m\u001b[1;33m,\u001b[0m \u001b[0mci\u001b[0m\u001b[1;33m,\u001b[0m \u001b[0mn_boot\u001b[0m\u001b[1;33m,\u001b[0m \u001b[0mseed\u001b[0m\u001b[1;33m)\u001b[0m\u001b[1;33m\u001b[0m\u001b[1;33m\u001b[0m\u001b[0m\n\u001b[0m\u001b[0;32m   1588\u001b[0m \u001b[1;33m\u001b[0m\u001b[0m\n\u001b[0;32m   1589\u001b[0m         \u001b[0mself\u001b[0m\u001b[1;33m.\u001b[0m\u001b[0mdodge\u001b[0m \u001b[1;33m=\u001b[0m \u001b[0mdodge\u001b[0m\u001b[1;33m\u001b[0m\u001b[1;33m\u001b[0m\u001b[0m\n",
      "\u001b[1;32m~\\Anaconda3\\lib\\site-packages\\seaborn\\categorical.py\u001b[0m in \u001b[0;36mestimate_statistic\u001b[1;34m(self, estimator, ci, n_boot, seed)\u001b[0m\n\u001b[0;32m   1484\u001b[0m                     \u001b[1;32melse\u001b[0m\u001b[1;33m:\u001b[0m\u001b[1;33m\u001b[0m\u001b[1;33m\u001b[0m\u001b[0m\n\u001b[0;32m   1485\u001b[0m \u001b[1;33m\u001b[0m\u001b[0m\n\u001b[1;32m-> 1486\u001b[1;33m                         boots = bootstrap(stat_data, func=estimator,\n\u001b[0m\u001b[0;32m   1487\u001b[0m                                           \u001b[0mn_boot\u001b[0m\u001b[1;33m=\u001b[0m\u001b[0mn_boot\u001b[0m\u001b[1;33m,\u001b[0m\u001b[1;33m\u001b[0m\u001b[1;33m\u001b[0m\u001b[0m\n\u001b[0;32m   1488\u001b[0m                                           \u001b[0munits\u001b[0m\u001b[1;33m=\u001b[0m\u001b[0munit_data\u001b[0m\u001b[1;33m,\u001b[0m\u001b[1;33m\u001b[0m\u001b[1;33m\u001b[0m\u001b[0m\n",
      "\u001b[1;32m~\\Anaconda3\\lib\\site-packages\\seaborn\\algorithms.py\u001b[0m in \u001b[0;36mbootstrap\u001b[1;34m(*args, **kwargs)\u001b[0m\n\u001b[0;32m     81\u001b[0m     \u001b[0mboot_dist\u001b[0m \u001b[1;33m=\u001b[0m \u001b[1;33m[\u001b[0m\u001b[1;33m]\u001b[0m\u001b[1;33m\u001b[0m\u001b[1;33m\u001b[0m\u001b[0m\n\u001b[0;32m     82\u001b[0m     \u001b[1;32mfor\u001b[0m \u001b[0mi\u001b[0m \u001b[1;32min\u001b[0m \u001b[0mrange\u001b[0m\u001b[1;33m(\u001b[0m\u001b[0mint\u001b[0m\u001b[1;33m(\u001b[0m\u001b[0mn_boot\u001b[0m\u001b[1;33m)\u001b[0m\u001b[1;33m)\u001b[0m\u001b[1;33m:\u001b[0m\u001b[1;33m\u001b[0m\u001b[1;33m\u001b[0m\u001b[0m\n\u001b[1;32m---> 83\u001b[1;33m         \u001b[0mresampler\u001b[0m \u001b[1;33m=\u001b[0m \u001b[0mintegers\u001b[0m\u001b[1;33m(\u001b[0m\u001b[1;36m0\u001b[0m\u001b[1;33m,\u001b[0m \u001b[0mn\u001b[0m\u001b[1;33m,\u001b[0m \u001b[0mn\u001b[0m\u001b[1;33m,\u001b[0m \u001b[0mdtype\u001b[0m\u001b[1;33m=\u001b[0m\u001b[0mnp\u001b[0m\u001b[1;33m.\u001b[0m\u001b[0mintp\u001b[0m\u001b[1;33m)\u001b[0m  \u001b[1;31m# intp is indexing dtype\u001b[0m\u001b[1;33m\u001b[0m\u001b[1;33m\u001b[0m\u001b[0m\n\u001b[0m\u001b[0;32m     84\u001b[0m         \u001b[0msample\u001b[0m \u001b[1;33m=\u001b[0m \u001b[1;33m[\u001b[0m\u001b[0ma\u001b[0m\u001b[1;33m.\u001b[0m\u001b[0mtake\u001b[0m\u001b[1;33m(\u001b[0m\u001b[0mresampler\u001b[0m\u001b[1;33m,\u001b[0m \u001b[0maxis\u001b[0m\u001b[1;33m=\u001b[0m\u001b[1;36m0\u001b[0m\u001b[1;33m)\u001b[0m \u001b[1;32mfor\u001b[0m \u001b[0ma\u001b[0m \u001b[1;32min\u001b[0m \u001b[0margs\u001b[0m\u001b[1;33m]\u001b[0m\u001b[1;33m\u001b[0m\u001b[1;33m\u001b[0m\u001b[0m\n\u001b[0;32m     85\u001b[0m         \u001b[0mboot_dist\u001b[0m\u001b[1;33m.\u001b[0m\u001b[0mappend\u001b[0m\u001b[1;33m(\u001b[0m\u001b[0mf\u001b[0m\u001b[1;33m(\u001b[0m\u001b[1;33m*\u001b[0m\u001b[0msample\u001b[0m\u001b[1;33m,\u001b[0m \u001b[1;33m**\u001b[0m\u001b[0mfunc_kwargs\u001b[0m\u001b[1;33m)\u001b[0m\u001b[1;33m)\u001b[0m\u001b[1;33m\u001b[0m\u001b[1;33m\u001b[0m\u001b[0m\n",
      "\u001b[1;31mKeyboardInterrupt\u001b[0m: "
     ]
    },
    {
     "data": {
      "text/plain": [
       "<Figure size 720x432 with 0 Axes>"
      ]
     },
     "metadata": {},
     "output_type": "display_data"
    }
   ],
   "source": [
    "fig = plt.figure(figsize = (10,6))\n",
    "sns.barplot(x = 'Activity', y = 'tBodyAcc-mean()-X', data = df_train)"
   ]
  },
  {
   "cell_type": "code",
   "execution_count": null,
   "id": "1c199795",
   "metadata": {},
   "outputs": [],
   "source": [
    "fig = plt.figure(figsize = (10,6))\n",
    "sns.barplot(x = 'Activity', y = 'tBodyAcc-mean()-Y', data = df_train)"
   ]
  },
  {
   "cell_type": "code",
   "execution_count": null,
   "id": "8fcdc94e",
   "metadata": {},
   "outputs": [],
   "source": [
    "fig = plt.figure(figsize = (10,6))\n",
    "sns.barplot(x = 'Activity', y = 'tBodyAcc-mean()-Z', data = df_train)"
   ]
  },
  {
   "cell_type": "code",
   "execution_count": null,
   "id": "dca1b230",
   "metadata": {},
   "outputs": [],
   "source": [
    "fig = plt.figure(figsize = (10,6))\n",
    "sns.barplot(x = 'Activity', y = 'tBodyAcc-std()-X', data = df_train)"
   ]
  },
  {
   "cell_type": "code",
   "execution_count": null,
   "id": "8a7c8783",
   "metadata": {},
   "outputs": [],
   "source": [
    "fig = plt.figure(figsize = (10,6))\n",
    "sns.barplot(x = 'Activity', y = 'tBodyAcc-std()-Y', data = df_train)"
   ]
  },
  {
   "cell_type": "code",
   "execution_count": null,
   "id": "721d6839",
   "metadata": {},
   "outputs": [],
   "source": [
    "fig = plt.figure(figsize = (10,6))\n",
    "sns.barplot(x = 'Activity', y = 'tBodyAcc-std()-Z', data = df_train)"
   ]
  },
  {
   "cell_type": "code",
   "execution_count": null,
   "id": "dfe3f271",
   "metadata": {},
   "outputs": [],
   "source": [
    "fig = plt.figure(figsize = (10,6))\n",
    "sns.barplot(x = 'Activity', y = 'tBodyAcc-mad()-X', data = df_train)"
   ]
  },
  {
   "cell_type": "code",
   "execution_count": null,
   "id": "5f18041b",
   "metadata": {},
   "outputs": [],
   "source": [
    "fig = plt.figure(figsize = (10,6))\n",
    "sns.barplot(x = 'Activity', y = 'tBodyAcc-mad()-Y', data = df_train)"
   ]
  },
  {
   "cell_type": "code",
   "execution_count": null,
   "id": "4a59ee99",
   "metadata": {
    "scrolled": true
   },
   "outputs": [],
   "source": [
    "fig = plt.figure(figsize = (10,6))\n",
    "sns.barplot(x = 'Activity', y = 'tBodyAcc-mad()-Z', data = df_train)"
   ]
  },
  {
   "cell_type": "code",
   "execution_count": null,
   "id": "067a0dcf",
   "metadata": {},
   "outputs": [],
   "source": [
    "fig = plt.figure(figsize = (10,6))\n",
    "sns.barplot(x = 'Activity', y = 'tBodyAcc-max()-X', data = df_train)"
   ]
  },
  {
   "cell_type": "code",
   "execution_count": null,
   "id": "2d29e28c",
   "metadata": {},
   "outputs": [],
   "source": [
    "fig = plt.figure(figsize = (10,6))\n",
    "sns.barplot(x = 'Activity', y = 'fBodyBodyGyroJerkMag-kurtosis()', data = df_train)"
   ]
  },
  {
   "cell_type": "code",
   "execution_count": null,
   "id": "9b6741c2",
   "metadata": {},
   "outputs": [],
   "source": [
    "fig = plt.figure(figsize = (10,6))\n",
    "sns.barplot(x = 'Activity', y = 'angle(tBodyAccMean,gravity)', data = df_train)"
   ]
  },
  {
   "cell_type": "code",
   "execution_count": null,
   "id": "b7a8bcea",
   "metadata": {},
   "outputs": [],
   "source": [
    "fig = plt.figure(figsize = (10,6))\n",
    "sns.barplot(x = 'Activity', y = 'angle(tBodyAccJerkMean),gravityMean)', data = df_train)"
   ]
  },
  {
   "cell_type": "code",
   "execution_count": null,
   "id": "9b61e03c",
   "metadata": {},
   "outputs": [],
   "source": [
    "fig = plt.figure(figsize = (10,6))\n",
    "sns.barplot(x = 'Activity', y = 'angle(tBodyGyroMean,gravityMean)', data = df_train)"
   ]
  },
  {
   "cell_type": "code",
   "execution_count": null,
   "id": "b28e1ab2",
   "metadata": {},
   "outputs": [],
   "source": [
    "fig = plt.figure(figsize = (10,6))\n",
    "sns.barplot(x = 'Activity', y = 'angle(tBodyGyroJerkMean,gravityMean)', data = df_train)"
   ]
  },
  {
   "cell_type": "code",
   "execution_count": null,
   "id": "ee5a5a0e",
   "metadata": {},
   "outputs": [],
   "source": [
    "fig = plt.figure(figsize = (10,6))\n",
    "sns.barplot(x = 'Activity', y = 'angle(X,gravityMean)', data = df_train)"
   ]
  },
  {
   "cell_type": "code",
   "execution_count": null,
   "id": "150988f0",
   "metadata": {},
   "outputs": [],
   "source": [
    "fig = plt.figure(figsize = (10,6))\n",
    "sns.barplot(x = 'Activity', y = 'angle(Y,gravityMean)', data = df_train)"
   ]
  },
  {
   "cell_type": "code",
   "execution_count": null,
   "id": "54ec16e5",
   "metadata": {},
   "outputs": [],
   "source": [
    "fig = plt.figure(figsize = (10,6))\n",
    "sns.barplot(x = 'Activity', y = 'angle(Z,gravityMean)', data = df_train)"
   ]
  },
  {
   "cell_type": "code",
   "execution_count": null,
   "id": "28b8ba9a",
   "metadata": {},
   "outputs": [],
   "source": [
    "fig = plt.figure(figsize = (10,6))\n",
    "sns.barplot(x = 'Activity', y = 'subject', data = df_train)"
   ]
  },
  {
   "cell_type": "code",
   "execution_count": null,
   "id": "2940890b",
   "metadata": {},
   "outputs": [],
   "source": [
    "df_train['gravityMean']=df_train['angle(X,gravityMean)']-df_train['angle(tBodyAccMean,gravity)']"
   ]
  },
  {
   "cell_type": "code",
   "execution_count": 6,
   "id": "7e292b33",
   "metadata": {},
   "outputs": [],
   "source": [
    "X_train = df_train.drop(([\"Activity\",\"tBodyAcc-mean()-X\",\"tBodyAcc-mean()-Z\",\"subject\"]),axis=1)\n",
    "y_train = df_train[\"Activity\"]"
   ]
  },
  {
   "cell_type": "code",
   "execution_count": 7,
   "id": "d1eaf906",
   "metadata": {},
   "outputs": [],
   "source": [
    "sc = StandardScaler()\n",
    "X_train = sc.fit_transform(X_train)"
   ]
  },
  {
   "cell_type": "code",
   "execution_count": null,
   "id": "9e131b49",
   "metadata": {},
   "outputs": [],
   "source": [
    "from sklearn.svm import SVC\n",
    "from sklearn.model_selection import cross_val_score\n",
    "\n",
    "poly_kernel_svm_clf = SVC(kernel=\"rbf\",degree=18,coef0=100,C=5,random_state=42)\n",
    "poly_kernel_svm_clf.fit(X_train, y_train)\n",
    "ex_scores = cross_val_score(poly_kernel_svm_clf, X_train, y_train, cv=10, scoring=\"accuracy\")\n",
    "np.mean(ex_scores)"
   ]
  },
  {
   "cell_type": "code",
   "execution_count": null,
   "id": "e2d9c839",
   "metadata": {},
   "outputs": [],
   "source": [
    "from sklearn.svm import SVC\n",
    "from sklearn.model_selection import cross_val_score\n",
    "\n",
    "poly_kernel_svm_clf = SVC(kernel=\"rbf\",gamma=\"scale\",degree=18,coef0=100,C=50,random_state=42)\n",
    "poly_kernel_svm_clf.fit(X_train, y_train)\n",
    "ex_scores = cross_val_score(poly_kernel_svm_clf, X_train, y_train, cv=10, scoring=\"accuracy\")\n",
    "np.mean(ex_scores)"
   ]
  },
  {
   "cell_type": "code",
   "execution_count": null,
   "id": "9330cae6",
   "metadata": {},
   "outputs": [],
   "source": [
    "from sklearn.ensemble import AdaBoostClassifier\n",
    "from sklearn.svm import SVC\n",
    "\n",
    "from sklearn.model_selection import cross_val_score\n",
    "\n",
    "ada_clf = AdaBoostClassifier(\n",
    "    SVC(kernel=\"rbf\",gamma=\"scale\",degree=18,coef0=100,C=50),n_estimators=400, learning_rate=1,random_state=42,algorithm='SAMME')\n",
    "ada_clf.fit(X_train, y_train)#sample_weight=sample_weights\n",
    "\n",
    "ada_clf_scores = cross_val_score(ada_clf, X_train, y_train, cv=10, scoring=\"accuracy\")\n",
    "np.mean(ada_clf_scores)"
   ]
  },
  {
   "cell_type": "code",
   "execution_count": null,
   "id": "c1fae125",
   "metadata": {},
   "outputs": [],
   "source": [
    "#\n",
    "from sklearn.ensemble import AdaBoostClassifier\n",
    "from sklearn.tree import DecisionTreeClassifier\n",
    "from sklearn.model_selection import cross_val_score\n",
    "\n",
    "ada_clf = AdaBoostClassifier(n_estimators=400, learning_rate=0.5, random_state=42)\n",
    "ada_clf.fit(X_train, y_train)\n",
    "\n",
    "model2 = AdaBoostClassifier(base_estimator= DecisionTreeClassifier(criterion='gini', max_depth=5, random_state=42))\n",
    "model2.fit(X_train, y_train)\n",
    "\n",
    "model2_scores = cross_val_score(model1, X_train, y_train, scoring=\"neg_mean_squared_error\", cv=10)\n",
    "model2_rmse_scores = np.sqrt(-model2_scores)\n",
    "np.mean(model2_rmse_scores)\n"
   ]
  },
  {
   "cell_type": "code",
   "execution_count": null,
   "id": "7dc4d328",
   "metadata": {},
   "outputs": [],
   "source": [
    "from sklearn.ensemble import AdaBoostClassifier\n",
    "from sklearn.tree import DecisionTreeClassifier\n",
    "from sklearn.model_selection import cross_val_score\n",
    "\n",
    "ada_clf = AdaBoostClassifier(\n",
    "    DecisionTreeClassifier(criterion='gini', max_depth=5),n_estimators=400, learning_rate=0.5, random_state=42)\n",
    "ada_clf.fit(X_train, y_train)\n",
    "ada_clf_scores = cross_val_score(ada_clf, X_train, y_train, scoring=\"accuracy\", cv=10)\n",
    "np.mean(ada_clf_scores)\n"
   ]
  },
  {
   "cell_type": "markdown",
   "id": "38f900ab",
   "metadata": {},
   "source": [
    "#voting 최종"
   ]
  },
  {
   "cell_type": "code",
   "execution_count": 23,
   "id": "20ce3e1f",
   "metadata": {},
   "outputs": [
    {
     "data": {
      "text/plain": [
       "VotingClassifier(estimators=[('dt',\n",
       "                              DecisionTreeClassifier(max_depth=50,\n",
       "                                                     random_state=42)),\n",
       "                             ('ex',\n",
       "                              ExtraTreesClassifier(n_estimators=400,\n",
       "                                                   random_state=42)),\n",
       "                             ('svc',\n",
       "                              SVC(C=50, coef0=100, degree=18, probability=True,\n",
       "                                  random_state=42))])"
      ]
     },
     "execution_count": 23,
     "metadata": {},
     "output_type": "execute_result"
    }
   ],
   "source": [
    "from sklearn.ensemble import VotingClassifier\n",
    "from sklearn.tree import DecisionTreeClassifier\n",
    "from sklearn.svm import SVC\n",
    "from sklearn.ensemble import ExtraTreesClassifier\n",
    "\n",
    "dt_clf = DecisionTreeClassifier(criterion='gini', max_depth=50, random_state=42)\n",
    "dt_clf.fit(X_train, y_train)\n",
    "ex_clf = ExtraTreesClassifier(n_estimators=400, random_state=42)\n",
    "ex_clf.fit(X_train, y_train)\n",
    "svm_clf = SVC(kernel=\"rbf\",gamma=\"scale\",degree=18,coef0=100,C=50,random_state=42,probability=True)\n",
    "svm_clf.fit(X_train, y_train)\n",
    "\n",
    "voting_clf = VotingClassifier(\n",
    "    estimators=[('dt',dt_clf), ('ex',ex_clf), ('svc',svm_clf)]\n",
    "    ,voting='hard')\n",
    "\n",
    "voting_clf.fit(X_train, y_train)"
   ]
  },
  {
   "cell_type": "code",
   "execution_count": 24,
   "id": "4d738731",
   "metadata": {},
   "outputs": [
    {
     "name": "stdout",
     "output_type": "stream",
     "text": [
      "DecisionTreeClassifier 0.9434183673469387\n",
      "ExtraTreesClassifier 0.9877575051759834\n",
      "SVC 0.9888459405501331\n",
      "VotingClassifier 0.990478223898255\n"
     ]
    }
   ],
   "source": [
    "from sklearn.metrics import accuracy_score\n",
    "\n",
    "for clf in (dt_clf, ex_clf, svm_clf, voting_clf):\n",
    "    clf_scores = cross_val_score(clf, X_train, y_train, scoring=\"accuracy\", cv=10)\n",
    "    scores = np.ndarray.mean(clf_scores)\n",
    "    #clf.fit(X_train, y_train)\n",
    "    #y_pred = clf.predict(X_train)\n",
    "    #print(clf.__class__.__name__, accuracy_score(y_train, y_pred))\n",
    "    print(clf.__class__.__name__, (scores))"
   ]
  },
  {
   "cell_type": "markdown",
   "id": "abe12e02",
   "metadata": {},
   "source": [
    "#voting 최종 끝"
   ]
  },
  {
   "cell_type": "code",
   "execution_count": null,
   "id": "52fd7b50",
   "metadata": {},
   "outputs": [],
   "source": [
    "from sklearn.ensemble import VotingClassifier\n",
    "from sklearn.tree import DecisionTreeClassifier\n",
    "from sklearn.svm import SVC\n",
    "from sklearn.ensemble import ExtraTreesClassifier\n",
    "\n",
    "dt_clf = DecisionTreeClassifier(criterion='gini', max_depth=50, random_state=42)\n",
    "dt_clf.fit(X_train, y_train)\n",
    "ex_clf = ExtraTreesClassifier(n_estimators=1000, random_state=42,max_depth=30)\n",
    "ex_clf.fit(X_train, y_train)\n",
    "svm_clf = SVC(kernel=\"rbf\",gamma=\"scale\",degree=18,coef0=100,C=50,random_state=42,probability=True)\n",
    "svm_clf.fit(X_train, y_train)\n",
    "poly_clf = SVC(kernel=\"poly\",gamma=\"scale\",degree=18,coef0=100,C=50,random_state=42,probability=True)\n",
    "poly_clf.fit(X_train, y_train)\n",
    "\n",
    "voting_clf = VotingClassifier(\n",
    "    estimators=[('dt',dt_clf), ('ex',ex_clf), ('svc',svm_clf),('poly',poly_clf')]\n",
    "    ,voting='hard')\n",
    "\n",
    "voting_clf.fit(X_train, y_train)"
   ]
  },
  {
   "cell_type": "code",
   "execution_count": null,
   "id": "8cb2c8b3",
   "metadata": {},
   "outputs": [],
   "source": [
    "from sklearn.metrics import accuracy_score\n",
    "\n",
    "for clf in (dt_clf, ex_clf, svm_clf, voting_clf,poly_clf):\n",
    "    clf_scores = cross_val_score(clf, X_train, y_train, scoring=\"accuracy\", cv=10)\n",
    "    scores = np.ndarray.mean(clf_scores)\n",
    "    #clf.fit(X_train, y_train)\n",
    "    #y_pred = clf.predict(X_train)\n",
    "    #print(clf.__class__.__name__, accuracy_score(y_train, y_pred))\n",
    "    print(clf.__class__.__name__, (scores))"
   ]
  },
  {
   "cell_type": "code",
   "execution_count": null,
   "id": "ab74d578",
   "metadata": {},
   "outputs": [],
   "source": [
    "#\n",
    "def cv10(model, X_train, y_train):\n",
    "    cv_scoring = cross_val_score(model, X_train, y_train, scoring = 'accuracy', cv = 10)\n",
    "    scores = np.mean(cv_scoring)\n",
    "    return scores"
   ]
  },
  {
   "cell_type": "code",
   "execution_count": null,
   "id": "92233170",
   "metadata": {},
   "outputs": [],
   "source": [
    "#\n",
    "model = (dt_clf, ex_clf, svm_clf)\n",
    "\n",
    "for x in model:\n",
    "    scor = cv10(x,X_train, y_train)\n",
    "    print(scor)"
   ]
  },
  {
   "cell_type": "markdown",
   "id": "2bbed42c",
   "metadata": {},
   "source": [
    "#stacking 최종"
   ]
  },
  {
   "cell_type": "code",
   "execution_count": 19,
   "id": "6caf57ef",
   "metadata": {},
   "outputs": [
    {
     "data": {
      "text/plain": [
       "StackingClassifier(estimators=[('ex',\n",
       "                                ExtraTreesClassifier(n_estimators=400,\n",
       "                                                     random_state=42)),\n",
       "                               ('svc',\n",
       "                                Pipeline(steps=[('standardscaler',\n",
       "                                                 StandardScaler()),\n",
       "                                                ('svc',\n",
       "                                                 SVC(C=50, coef0=100, degree=18,\n",
       "                                                     random_state=42))]))],\n",
       "                   final_estimator=LogisticRegression(C=5, max_iter=5000,\n",
       "                                                      random_state=42))"
      ]
     },
     "execution_count": 19,
     "metadata": {},
     "output_type": "execute_result"
    }
   ],
   "source": [
    "from sklearn.ensemble import StackingClassifier\n",
    "from sklearn.linear_model import LogisticRegression\n",
    "from sklearn.ensemble import ExtraTreesClassifier\n",
    "from sklearn.svm import SVC\n",
    "from sklearn.preprocessing import StandardScaler\n",
    "from sklearn.pipeline import make_pipeline\n",
    "\n",
    "estimators = [\n",
    "     ('ex', ExtraTreesClassifier(n_estimators=400, random_state=42)),\n",
    "     ('svc', make_pipeline(StandardScaler(),\n",
    "                           SVC(kernel=\"rbf\",gamma=\"scale\",degree=18,coef0=100,C=50,random_state=42)))\n",
    " ]\n",
    "clf = StackingClassifier(\n",
    "     estimators=estimators, final_estimator=LogisticRegression(max_iter=5000,random_state=42,C=5)\n",
    ")\n",
    "clf.fit(X_train, y_train)\n"
   ]
  },
  {
   "cell_type": "code",
   "execution_count": 22,
   "id": "7ada7d42",
   "metadata": {},
   "outputs": [
    {
     "data": {
      "text/plain": [
       "0.991702528837622"
      ]
     },
     "execution_count": 22,
     "metadata": {},
     "output_type": "execute_result"
    }
   ],
   "source": [
    "clf_scores = cross_val_score(clf, X_train, y_train, scoring=\"accuracy\", cv=10)\n",
    "np.mean(clf_scores)"
   ]
  },
  {
   "cell_type": "code",
   "execution_count": null,
   "id": "eb326181",
   "metadata": {},
   "outputs": [],
   "source": [
    "#stacking 최종끝"
   ]
  },
  {
   "cell_type": "code",
   "execution_count": 25,
   "id": "b168e302",
   "metadata": {},
   "outputs": [
    {
     "data": {
      "text/plain": [
       "StackingClassifier(estimators=[('ex',\n",
       "                                ExtraTreesClassifier(max_depth=100,\n",
       "                                                     n_estimators=500,\n",
       "                                                     random_state=42)),\n",
       "                               ('svc',\n",
       "                                Pipeline(steps=[('standardscaler',\n",
       "                                                 StandardScaler()),\n",
       "                                                ('svc',\n",
       "                                                 SVC(C=50, coef0=100, degree=18,\n",
       "                                                     random_state=42))]))],\n",
       "                   final_estimator=LogisticRegression(C=5, max_iter=5000,\n",
       "                                                      random_state=42))"
      ]
     },
     "execution_count": 25,
     "metadata": {},
     "output_type": "execute_result"
    }
   ],
   "source": [
    "from sklearn.ensemble import StackingClassifier\n",
    "from sklearn.linear_model import LogisticRegression\n",
    "from sklearn.ensemble import ExtraTreesClassifier\n",
    "from sklearn.svm import SVC\n",
    "from sklearn.preprocessing import StandardScaler\n",
    "from sklearn.pipeline import make_pipeline\n",
    "\n",
    "estimators = [\n",
    "     ('ex', ExtraTreesClassifier(n_estimators=500, random_state=42,max_depth=100)),\n",
    "     ('svc', make_pipeline(StandardScaler(),\n",
    "                           SVC(kernel=\"rbf\",gamma=\"scale\",degree=18,coef0=100,C=50,random_state=42)))\n",
    " ]\n",
    "clf = StackingClassifier(\n",
    "     estimators=estimators, final_estimator=LogisticRegression(max_iter=5000,random_state=42,C=5)\n",
    ")\n",
    "clf.fit(X_train, y_train)\n"
   ]
  },
  {
   "cell_type": "code",
   "execution_count": 26,
   "id": "a0c869ab",
   "metadata": {},
   "outputs": [
    {
     "data": {
      "text/plain": [
       "0.9915666592724047"
      ]
     },
     "execution_count": 26,
     "metadata": {},
     "output_type": "execute_result"
    }
   ],
   "source": [
    "clf_scores = cross_val_score(clf, X_train, y_train, scoring=\"accuracy\", cv=10)\n",
    "np.mean(clf_scores)"
   ]
  },
  {
   "cell_type": "code",
   "execution_count": 29,
   "id": "6e8f89d1",
   "metadata": {},
   "outputs": [
    {
     "data": {
      "text/plain": [
       "StackingClassifier(estimators=[('ex',\n",
       "                                ExtraTreesClassifier(max_depth=500,\n",
       "                                                     n_estimators=300,\n",
       "                                                     random_state=42)),\n",
       "                               ('svc',\n",
       "                                Pipeline(steps=[('standardscaler',\n",
       "                                                 StandardScaler()),\n",
       "                                                ('svc',\n",
       "                                                 SVC(C=50, coef0=100, degree=18,\n",
       "                                                     random_state=42))]))],\n",
       "                   final_estimator=LogisticRegression(C=5, max_iter=8000,\n",
       "                                                      random_state=42))"
      ]
     },
     "execution_count": 29,
     "metadata": {},
     "output_type": "execute_result"
    }
   ],
   "source": [
    "from sklearn.ensemble import StackingClassifier\n",
    "from sklearn.linear_model import LogisticRegression\n",
    "from sklearn.ensemble import ExtraTreesClassifier\n",
    "from sklearn.svm import SVC\n",
    "from sklearn.preprocessing import StandardScaler\n",
    "from sklearn.pipeline import make_pipeline\n",
    "\n",
    "estimators = [\n",
    "     ('ex', ExtraTreesClassifier(n_estimators=300, random_state=42,max_depth=500)),\n",
    "     ('svc', make_pipeline(StandardScaler(),\n",
    "                           SVC(kernel=\"rbf\",gamma=\"scale\",degree=18,coef0=100,C=50,random_state=42)))\n",
    " ]\n",
    "clf = StackingClassifier(\n",
    "     estimators=estimators, final_estimator=LogisticRegression(max_iter=8000,random_state=42,C=5)\n",
    ")\n",
    "clf.fit(X_train, y_train)"
   ]
  },
  {
   "cell_type": "code",
   "execution_count": 31,
   "id": "f05608c6",
   "metadata": {},
   "outputs": [
    {
     "data": {
      "text/plain": [
       "0.9919742679680568"
      ]
     },
     "execution_count": 31,
     "metadata": {},
     "output_type": "execute_result"
    }
   ],
   "source": [
    "clf_scores = cross_val_score(clf, X_train, y_train, scoring=\"accuracy\", cv=10)\n",
    "np.mean(clf_scores)"
   ]
  },
  {
   "cell_type": "code",
   "execution_count": null,
   "id": "fdf79ecb",
   "metadata": {},
   "outputs": [],
   "source": []
  }
 ],
 "metadata": {
  "kernelspec": {
   "display_name": "Python 3 (ipykernel)",
   "language": "python",
   "name": "python3"
  },
  "language_info": {
   "codemirror_mode": {
    "name": "ipython",
    "version": 3
   },
   "file_extension": ".py",
   "mimetype": "text/x-python",
   "name": "python",
   "nbconvert_exporter": "python",
   "pygments_lexer": "ipython3",
   "version": "3.9.7"
  }
 },
 "nbformat": 4,
 "nbformat_minor": 5
}
